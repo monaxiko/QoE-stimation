{
 "cells": [
  {
   "cell_type": "code",
   "execution_count": 1,
   "metadata": {},
   "outputs": [
    {
     "name": "stdout",
     "output_type": "stream",
     "text": [
      "/home/jmmcaro/PythonDir/PythonEnv/QoX/code\n"
     ]
    }
   ],
   "source": [
    "import pandas as pd\n",
    "import numpy as np\n",
    "import os\n",
    "import matplotlib.pyplot as plt\n",
    "import random\n",
    "\n",
    "from keras.models import Sequential\n",
    "from keras.layers import LSTM\n",
    "from keras.layers import Dense\n",
    "from keras.layers import Bidirectional\n",
    "\n",
    "\n",
    "print(os.getcwd())"
   ]
  },
  {
   "cell_type": "code",
   "execution_count": 2,
   "metadata": {},
   "outputs": [
    {
     "name": "stdout",
     "output_type": "stream",
     "text": [
      "   time  10_validity  10_timeliness  10_recall  10_quantity  10_precision  \\\n",
      "0   500            1              1       0.68         1.00      0.885513   \n",
      "1  1000            1              1       0.68         0.89      0.885513   \n",
      "2  1500            1              1       0.68         0.89      0.876368   \n",
      "3  2000            1              1       0.68         0.75      0.876368   \n",
      "4  2500            1              1       0.68         0.78      0.885513   \n",
      "\n",
      "   10_detail  10_accuracy    10_QoI  10_ThBps  ...  19_ThBps    19_PDR  \\\n",
      "0          1            1  0.602149  1.000000  ...  1.000000  0.561321   \n",
      "1          1            1  0.535913  0.835024  ...  0.867790  0.579403   \n",
      "2          1            1  0.530378  0.942382  ...  0.790884  0.549686   \n",
      "3          1            1  0.446948  0.673693  ...  1.000000  0.560063   \n",
      "4          1            1  0.469676  0.775337  ...  0.872933  0.504717   \n",
      "\n",
      "   19_Jitter  19_GWAv  19_Delay    19_QoE    19_QoD  19_thruthfullness  \\\n",
      "0   1.000000      1.0  1.000000  0.561321  0.063786                  1   \n",
      "1   1.000000      1.0  0.873002  0.438945  0.312044                  1   \n",
      "2   1.000000      1.0  0.888559  0.386290  0.543362                  1   \n",
      "3   0.955873      1.0  0.966198  0.517253  0.612753                  1   \n",
      "4   0.904035      1.0  0.937543  0.373427  0.634316                  1   \n",
      "\n",
      "     19_Res   19_Comp  \n",
      "0  0.861111  0.074074  \n",
      "1  0.861111  0.362374  \n",
      "2  0.861111  0.631001  \n",
      "3  0.861111  0.711584  \n",
      "4  0.861111  0.736626  \n",
      "\n",
      "[5 rows x 181 columns]\n",
      "['time', '10_validity', '10_timeliness', '10_recall', '10_quantity', '10_precision', '10_detail', '10_accuracy', '10_QoI', '10_ThBps', '10_PDR', '10_Jitter', '10_GWAv', '10_Delay', '10_QoE', '10_QoD', '10_thruthfullness', '10_Res', '10_Comp', '11_validity', '11_timeliness', '11_recall', '11_quantity', '11_precision', '11_detail', '11_accuracy', '11_QoI', '11_ThBps', '11_PDR', '11_Jitter', '11_GWAv', '11_Delay', '11_QoE', '11_QoD', '11_thruthfullness', '11_Res', '11_Comp', '12_validity', '12_timeliness', '12_recall', '12_quantity', '12_precision', '12_detail', '12_accuracy', '12_QoI', '12_ThBps', '12_PDR', '12_Jitter', '12_GWAv', '12_Delay', '12_QoE', '12_QoD', '12_thruthfullness', '12_Res', '12_Comp', '13_validity', '13_timeliness', '13_recall', '13_quantity', '13_precision', '13_detail', '13_accuracy', '13_QoI', '13_ThBps', '13_PDR', '13_Jitter', '13_GWAv', '13_Delay', '13_QoE', '13_QoD', '13_thruthfullness', '13_Res', '13_Comp', '14_validity', '14_timeliness', '14_recall', '14_quantity', '14_precision', '14_detail', '14_accuracy', '14_QoI', '14_ThBps', '14_PDR', '14_Jitter', '14_GWAv', '14_Delay', '14_QoE', '14_QoD', '14_thruthfullness', '14_Res', '14_Comp', '15_validity', '15_timeliness', '15_recall', '15_quantity', '15_precision', '15_detail', '15_accuracy', '15_QoI', '15_ThBps', '15_PDR', '15_Jitter', '15_GWAv', '15_Delay', '15_QoE', '15_QoD', '15_thruthfullness', '15_Res', '15_Comp', '16_validity', '16_timeliness', '16_recall', '16_quantity', '16_precision', '16_detail', '16_accuracy', '16_QoI', '16_ThBps', '16_PDR', '16_Jitter', '16_GWAv', '16_Delay', '16_QoE', '16_QoD', '16_thruthfullness', '16_Res', '16_Comp', '17_validity', '17_timeliness', '17_recall', '17_quantity', '17_precision', '17_detail', '17_accuracy', '17_QoI', '17_ThBps', '17_PDR', '17_Jitter', '17_GWAv', '17_Delay', '17_QoE', '17_QoD', '17_thruthfullness', '17_Res', '17_Comp', '18_validity', '18_timeliness', '18_recall', '18_quantity', '18_precision', '18_detail', '18_accuracy', '18_QoI', '18_ThBps', '18_PDR', '18_Jitter', '18_GWAv', '18_Delay', '18_QoE', '18_QoD', '18_thruthfullness', '18_Res', '18_Comp', '19_validity', '19_timeliness', '19_recall', '19_quantity', '19_precision', '19_detail', '19_accuracy', '19_QoI', '19_ThBps', '19_PDR', '19_Jitter', '19_GWAv', '19_Delay', '19_QoE', '19_QoD', '19_thruthfullness', '19_Res', '19_Comp']\n"
     ]
    }
   ],
   "source": [
    "df_init = pd.read_csv('../csv/S1_Urban.csv', sep=';')\n",
    "print(df_init.head())\n",
    "print(list(df_init.columns))"
   ]
  },
  {
   "cell_type": "code",
   "execution_count": 3,
   "metadata": {},
   "outputs": [],
   "source": [
    "cols_GWAv = pd.DataFrame()\n",
    "cols_Jitter = pd.DataFrame()\n",
    "cols_Delay = pd.DataFrame()\n",
    "cols_ThBps = pd.DataFrame()\n",
    "cols_quantity = pd.DataFrame()\n",
    "cols_PDR = pd.DataFrame()\n",
    "cols_recall = pd.DataFrame()\n",
    "cols_QoE = pd.DataFrame()\n",
    "\n",
    "\n",
    "cols_GWAv = df_init[['10_GWAv','11_GWAv','12_GWAv','13_GWAv','14_GWAv','15_GWAv','16_GWAv','17_GWAv','18_GWAv','19_GWAv']]\n",
    "cols_Jitter = df_init[['10_Jitter','11_Jitter','12_Jitter','13_Jitter','14_Jitter','15_Jitter','16_Jitter','17_Jitter','18_Jitter','19_Jitter']]\n",
    "cols_Delay = df_init[['10_Delay','11_Delay','12_Delay','13_Delay','14_Delay','15_Delay','16_Delay','17_Delay','18_Delay','19_Delay']]\n",
    "cols_ThBps = df_init[['10_ThBps','11_ThBps','12_ThBps','13_ThBps','14_ThBps','15_ThBps','16_ThBps','17_ThBps','18_ThBps','19_ThBps']]\n",
    "cols_quantity = df_init[['10_quantity','11_quantity','12_quantity','13_quantity','14_quantity','15_quantity','16_quantity','17_quantity','18_quantity','19_quantity']]\n",
    "cols_PDR = df_init[['10_PDR','11_PDR','12_PDR','13_PDR','14_PDR','15_PDR','16_PDR','17_PDR','18_PDR','19_PDR']]\n",
    "cols_recall = df_init[['10_recall','11_recall','12_recall','13_recall','14_recall','15_recall','16_recall','17_recall','18_recall','19_recall']]\n",
    "cols_QoE = df_init[['10_QoE','11_QoE','12_QoE','13_QoE','14_QoE','15_QoE','16_QoE','17_QoE','18_QoE','19_QoE']]\n",
    "\n",
    "cols2 = ['GWAv', 'Jitter', 'Delay','ThBps','quantity','PDR','recall','Decision']\n",
    "\n",
    "df2 = pd.DataFrame(columns=cols2)\n"
   ]
  },
  {
   "cell_type": "code",
   "execution_count": 4,
   "metadata": {},
   "outputs": [
    {
     "name": "stdout",
     "output_type": "stream",
     "text": [
      "[1. 1. 1. ... 1. 1. 1.]\n"
     ]
    }
   ],
   "source": [
    "aux0 = pd.Series(cols_GWAv['10_GWAv'])\n",
    "aux1 = pd.Series(cols_GWAv['11_GWAv'])\n",
    "aux2 = pd.Series(cols_GWAv['12_GWAv'])\n",
    "aux3 = pd.Series(cols_GWAv['13_GWAv'])\n",
    "aux4 = pd.Series(cols_GWAv['14_GWAv'])\n",
    "aux5 = pd.Series(cols_GWAv['15_GWAv'])\n",
    "aux6 = pd.Series(cols_GWAv['16_GWAv'])\n",
    "aux7 = pd.Series(cols_GWAv['17_GWAv'])\n",
    "aux8 = pd.Series(cols_GWAv['18_GWAv'])\n",
    "aux9 = pd.Series(cols_GWAv['19_GWAv'])\n",
    "\n",
    "aux = pd.concat([aux0, aux1, aux2, aux3, aux4, aux5, aux6, aux7, aux8, aux9, aux0, aux1, aux2, aux3, aux4, aux5, aux6, aux7, aux8, aux9],axis=0)\n",
    "aux = np.array(aux)\n",
    "print(aux)\n",
    "\n",
    "df2['GWAv'] = pd.Series(aux)"
   ]
  },
  {
   "cell_type": "code",
   "execution_count": 5,
   "metadata": {},
   "outputs": [
    {
     "name": "stdout",
     "output_type": "stream",
     "text": [
      "[1.         1.         0.97193203 ... 0.83747361 0.82479999 0.85786796]\n"
     ]
    }
   ],
   "source": [
    "aux0 = pd.Series(cols_Jitter['10_Jitter'])\n",
    "aux1 = pd.Series(cols_Jitter['11_Jitter'])\n",
    "aux2 = pd.Series(cols_Jitter['12_Jitter'])\n",
    "aux3 = pd.Series(cols_Jitter['13_Jitter'])\n",
    "aux4 = pd.Series(cols_Jitter['14_Jitter'])\n",
    "aux5 = pd.Series(cols_Jitter['15_Jitter'])\n",
    "aux6 = pd.Series(cols_Jitter['16_Jitter'])\n",
    "aux7 = pd.Series(cols_Jitter['17_Jitter'])\n",
    "aux8 = pd.Series(cols_Jitter['18_Jitter'])\n",
    "aux9 = pd.Series(cols_Jitter['19_Jitter'])\n",
    "\n",
    "aux = pd.concat([aux0, aux1, aux2, aux3, aux4, aux5, aux6, aux7, aux8, aux9, aux0, aux1, aux2, aux3, aux4, aux5, aux6, aux7, aux8, aux9],axis=0)\n",
    "aux = np.array(aux)\n",
    "print(aux)\n",
    "\n",
    "df2['Jitter'] = pd.Series(aux)"
   ]
  },
  {
   "cell_type": "code",
   "execution_count": 6,
   "metadata": {},
   "outputs": [
    {
     "name": "stdout",
     "output_type": "stream",
     "text": [
      "[1.         1.         1.         ... 0.79386633 0.86611412 0.8084506 ]\n"
     ]
    }
   ],
   "source": [
    "aux0 = pd.Series(cols_Delay['10_Delay'])\n",
    "aux1 = pd.Series(cols_Delay['11_Delay'])\n",
    "aux2 = pd.Series(cols_Delay['12_Delay'])\n",
    "aux3 = pd.Series(cols_Delay['13_Delay'])\n",
    "aux4 = pd.Series(cols_Delay['14_Delay'])\n",
    "aux5 = pd.Series(cols_Delay['15_Delay'])\n",
    "aux6 = pd.Series(cols_Delay['16_Delay'])\n",
    "aux7 = pd.Series(cols_Delay['17_Delay'])\n",
    "aux8 = pd.Series(cols_Delay['18_Delay'])\n",
    "aux9 = pd.Series(cols_Delay['19_Delay'])\n",
    "\n",
    "aux = pd.concat([aux0, aux1, aux2, aux3, aux4, aux5, aux6, aux7, aux8, aux9, aux0, aux1, aux2, aux3, aux4, aux5, aux6, aux7, aux8, aux9],axis=0)\n",
    "aux = np.array(aux)\n",
    "print(aux)\n",
    "\n",
    "df2['Delay'] = pd.Series(aux)"
   ]
  },
  {
   "cell_type": "code",
   "execution_count": 7,
   "metadata": {},
   "outputs": [
    {
     "name": "stdout",
     "output_type": "stream",
     "text": [
      "[1.         0.83502413 0.94238156 ... 0.68416409 0.90083811 0.71204235]\n"
     ]
    }
   ],
   "source": [
    "aux0 = pd.Series(cols_ThBps['10_ThBps'])\n",
    "aux1 = pd.Series(cols_ThBps['11_ThBps'])\n",
    "aux2 = pd.Series(cols_ThBps['12_ThBps'])\n",
    "aux3 = pd.Series(cols_ThBps['13_ThBps'])\n",
    "aux4 = pd.Series(cols_ThBps['14_ThBps'])\n",
    "aux5 = pd.Series(cols_ThBps['15_ThBps'])\n",
    "aux6 = pd.Series(cols_ThBps['16_ThBps'])\n",
    "aux7 = pd.Series(cols_ThBps['17_ThBps'])\n",
    "aux8 = pd.Series(cols_ThBps['18_ThBps'])\n",
    "aux9 = pd.Series(cols_ThBps['19_ThBps'])\n",
    "\n",
    "aux = pd.concat([aux0, aux1, aux2, aux3, aux4, aux5, aux6, aux7, aux8, aux9, aux0, aux1, aux2, aux3, aux4, aux5, aux6, aux7, aux8, aux9],axis=0)\n",
    "aux = np.array(aux)\n",
    "print(aux)\n",
    "\n",
    "df2['ThBps'] = pd.Series(aux)"
   ]
  },
  {
   "cell_type": "code",
   "execution_count": 8,
   "metadata": {},
   "outputs": [
    {
     "name": "stdout",
     "output_type": "stream",
     "text": [
      "[1.         0.89       0.89       ... 0.76923077 0.93269231 0.81730769]\n"
     ]
    }
   ],
   "source": [
    "aux0 = pd.Series(cols_quantity['10_quantity'])\n",
    "aux1 = pd.Series(cols_quantity['11_quantity'])\n",
    "aux2 = pd.Series(cols_quantity['12_quantity'])\n",
    "aux3 = pd.Series(cols_quantity['13_quantity'])\n",
    "aux4 = pd.Series(cols_quantity['14_quantity'])\n",
    "aux5 = pd.Series(cols_quantity['15_quantity'])\n",
    "aux6 = pd.Series(cols_quantity['16_quantity'])\n",
    "aux7 = pd.Series(cols_quantity['17_quantity'])\n",
    "aux8 = pd.Series(cols_quantity['18_quantity'])\n",
    "aux9 = pd.Series(cols_quantity['19_quantity'])\n",
    "\n",
    "aux = pd.concat([aux0, aux1, aux2, aux3, aux4, aux5, aux6, aux7, aux8, aux9, aux0, aux1, aux2, aux3, aux4, aux5, aux6, aux7, aux8, aux9],axis=0)\n",
    "aux = np.array(aux)\n",
    "print(aux)\n",
    "\n",
    "df2['quantity'] = pd.Series(aux)"
   ]
  },
  {
   "cell_type": "code",
   "execution_count": 9,
   "metadata": {},
   "outputs": [
    {
     "name": "stdout",
     "output_type": "stream",
     "text": [
      "[0.56918239 0.55013477 0.52044025 ... 0.56606703 0.54496855 0.53867925]\n"
     ]
    }
   ],
   "source": [
    "aux0 = pd.Series(cols_PDR['10_PDR'])\n",
    "aux1 = pd.Series(cols_PDR['11_PDR'])\n",
    "aux2 = pd.Series(cols_PDR['12_PDR'])\n",
    "aux3 = pd.Series(cols_PDR['13_PDR'])\n",
    "aux4 = pd.Series(cols_PDR['14_PDR'])\n",
    "aux5 = pd.Series(cols_PDR['15_PDR'])\n",
    "aux6 = pd.Series(cols_PDR['16_PDR'])\n",
    "aux7 = pd.Series(cols_PDR['17_PDR'])\n",
    "aux8 = pd.Series(cols_PDR['18_PDR'])\n",
    "aux9 = pd.Series(cols_PDR['19_PDR'])\n",
    "\n",
    "aux = pd.concat([aux0, aux1, aux2, aux3, aux4, aux5, aux6, aux7, aux8, aux9, aux0, aux1, aux2, aux3, aux4, aux5, aux6, aux7, aux8, aux9],axis=0)\n",
    "aux = np.array(aux)\n",
    "print(aux)\n",
    "\n",
    "df2['PDR'] = pd.Series(aux)"
   ]
  },
  {
   "cell_type": "code",
   "execution_count": 10,
   "metadata": {},
   "outputs": [
    {
     "name": "stdout",
     "output_type": "stream",
     "text": [
      "[0.68 0.68 0.68 ... 0.68 0.68 0.68]\n"
     ]
    }
   ],
   "source": [
    "aux0 = pd.Series(cols_recall['10_recall'])\n",
    "aux1 = pd.Series(cols_recall['11_recall'])\n",
    "aux2 = pd.Series(cols_recall['12_recall'])\n",
    "aux3 = pd.Series(cols_recall['13_recall'])\n",
    "aux4 = pd.Series(cols_recall['14_recall'])\n",
    "aux5 = pd.Series(cols_recall['15_recall'])\n",
    "aux6 = pd.Series(cols_recall['16_recall'])\n",
    "aux7 = pd.Series(cols_recall['17_recall'])\n",
    "aux8 = pd.Series(cols_recall['18_recall'])\n",
    "aux9 = pd.Series(cols_recall['19_recall'])\n",
    "\n",
    "aux = pd.concat([aux0, aux1, aux2, aux3, aux4, aux5, aux6, aux7, aux8, aux9, aux0, aux1, aux2, aux3, aux4, aux5, aux6, aux7, aux8, aux9],axis=0)\n",
    "aux = np.array(aux)\n",
    "print(aux)\n",
    "\n",
    "df2['recall'] = pd.Series(aux)"
   ]
  },
  {
   "cell_type": "code",
   "execution_count": 11,
   "metadata": {},
   "outputs": [
    {
     "name": "stdout",
     "output_type": "stream",
     "text": [
      "[0.56918239 0.45937581 0.47668727 ... 0.25748187 0.350705   0.26601737]\n"
     ]
    }
   ],
   "source": [
    "aux0 = pd.Series(cols_QoE['10_QoE'])\n",
    "aux1 = pd.Series(cols_QoE['11_QoE'])\n",
    "aux2 = pd.Series(cols_QoE['12_QoE'])\n",
    "aux3 = pd.Series(cols_QoE['13_QoE'])\n",
    "aux4 = pd.Series(cols_QoE['14_QoE'])\n",
    "aux5 = pd.Series(cols_QoE['15_QoE'])\n",
    "aux6 = pd.Series(cols_QoE['16_QoE'])\n",
    "aux7 = pd.Series(cols_QoE['17_QoE'])\n",
    "aux8 = pd.Series(cols_QoE['18_QoE'])\n",
    "aux9 = pd.Series(cols_QoE['19_QoE'])\n",
    "\n",
    "aux = pd.concat([aux0, aux1, aux2, aux3, aux4, aux5, aux6, aux7, aux8, aux9, aux0, aux1, aux2, aux3, aux4, aux5, aux6, aux7, aux8, aux9],axis=0)\n",
    "aux = np.array(aux)\n",
    "print(aux)\n",
    "\n",
    "df2['Decision'] = pd.Series(aux)"
   ]
  },
  {
   "cell_type": "code",
   "execution_count": 12,
   "metadata": {},
   "outputs": [
    {
     "name": "stdout",
     "output_type": "stream",
     "text": [
      "       GWAv    Jitter     Delay     ThBps  quantity       PDR  recall  \\\n",
      "0       1.0  1.000000  1.000000  1.000000  1.000000  0.569182    0.68   \n",
      "1       1.0  1.000000  1.000000  0.835024  0.890000  0.550135    0.68   \n",
      "2       1.0  0.971932  1.000000  0.942382  0.890000  0.520440    0.68   \n",
      "3       1.0  0.960778  0.886248  0.673693  0.750000  0.497284    0.68   \n",
      "4       1.0  0.954763  0.915704  0.775337  0.780000  0.493353    0.68   \n",
      "...     ...       ...       ...       ...       ...       ...     ...   \n",
      "14395   1.0  0.869416  0.837015  0.784296  0.884615  0.556604    0.68   \n",
      "14396   1.0  0.814536  0.834273  0.736039  0.788462  0.509434    0.68   \n",
      "14397   1.0  0.837474  0.793866  0.684164  0.769231  0.566067    0.68   \n",
      "14398   1.0  0.824800  0.866114  0.900838  0.932692  0.544969    0.68   \n",
      "14399   1.0  0.857868  0.808451  0.712042  0.817308  0.538679    0.68   \n",
      "\n",
      "       Decision  \n",
      "0      0.569182  \n",
      "1      0.459376  \n",
      "2      0.476687  \n",
      "3      0.285263  \n",
      "4      0.334426  \n",
      "...         ...  \n",
      "14395  0.317678  \n",
      "14396  0.254804  \n",
      "14397  0.257482  \n",
      "14398  0.350705  \n",
      "14399  0.266017  \n",
      "\n",
      "[14400 rows x 8 columns]\n"
     ]
    }
   ],
   "source": [
    "print(df2)"
   ]
  },
  {
   "cell_type": "code",
   "execution_count": 13,
   "metadata": {},
   "outputs": [
    {
     "name": "stdout",
     "output_type": "stream",
     "text": [
      "[6912, 520, 488, 1535, 3582, 3811, 8279, 9863, 434, 9195]\n",
      "[2, 1, 5, 4, 4, 3, 2, 9, 2, 10]\n",
      "-----------------------------\n",
      "[11438, 6924, 5574, 4552, 2547, 3527, 12509, 5514, 1674, 1519]\n",
      "[13, 20, 18, 16, 13, 17, 19, 14, 10, 12]\n",
      "-----------------------------\n",
      "[13223, 711, 11955, 7527, 8785]\n",
      "[394, 249, 383, 376, 335]\n",
      "-----------------------------\n"
     ]
    },
    {
     "data": {
      "image/png": "[encoded data removed]",
      "text/plain": [
       "<Figure size 1080x720 with 1 Axes>"
      ]
     },
     "metadata": {
      "needs_background": "light"
     },
     "output_type": "display_data"
    }
   ],
   "source": [
    "random.seed(42)\n",
    "\n",
    "lent = df2['GWAv'].shape[0]\n",
    "\n",
    "leng1 = [random.randint(1,10) for i in range(10)]\n",
    "init1 = [random.randint(0,lent) for i in range(10)]\n",
    "\n",
    "\n",
    "print(init1)\n",
    "print(leng1)\n",
    "print('-----------------------------')\n",
    "\n",
    "leng2 = [random.randint(10,20) for i in range(10)]\n",
    "init2 = [random.randint(0,lent) for i in range(10)]\n",
    "print(init2)\n",
    "print(leng2)\n",
    "print('-----------------------------')\n",
    "\n",
    "\n",
    "leng3 = [random.randint(200,500) for i in range(5)]\n",
    "init3 = [random.randint(0,lent) for i in range(5)]\n",
    "print(init3)\n",
    "print(leng3)\n",
    "print('-----------------------------')\n",
    "\n",
    "for i in range(0,len(leng1)):\n",
    "    df2[init1[i]:init1[i]+leng1[i]] = df2[init1[i]:init1[i]+leng1[i]] * 0.1;\n",
    "    #print(df['QoE'][init1[i]:init1[i]+leng1[i]])\n",
    "    \n",
    "for i in range(0,len(leng2)):\n",
    "    df2[init2[i]:init2[i]+leng2[i]] = df2[init2[i]:init2[i]+leng2[i]] * 0.2;\n",
    "    #print(df['QoE'][init2[i]:init2[i]+leng2[i]])\n",
    "    \n",
    "for i in range(0,len(leng3)):\n",
    "    df2[init3[i]:init3[i]+leng3[i]] = df2[init3[i]:init3[i]+leng3[i]] * 0;\n",
    "    #print(df['QoE'][init2[i]:init2[i]+leng2[i]])\n",
    "\n",
    "    \n",
    "fig = plt.figure(figsize=(15,10))\n",
    "plt.plot(df2)\n",
    "plt.show()"
   ]
  },
  {
   "cell_type": "code",
   "execution_count": 14,
   "metadata": {},
   "outputs": [],
   "source": [
    "from chefboost import Chefboost as chef\n",
    "from sklearn.model_selection import train_test_split\n",
    "from sklearn import tree\n",
    "from sklearn.model_selection import cross_val_score\n"
   ]
  },
  {
   "cell_type": "code",
   "execution_count": 15,
   "metadata": {},
   "outputs": [],
   "source": [
    "for i in range(0,df2.shape[0]):\n",
    "    if(df2['Decision'][i] >=0.8 and df2['Decision'][i] <=1):\n",
    "        df2['Decision'][i] = 5\n",
    "    if(df2['Decision'][i] <0.8 and df2['Decision'][i]>=0.6):\n",
    "        df2['Decision'][i] = 4   \n",
    "    if(df2['Decision'][i] <0.6 and df2['Decision'][i]>=0.4):\n",
    "        df2['Decision'][i] = 3\n",
    "    if(df2['Decision'][i] <0.4 and df2['Decision'][i]>=0.2):\n",
    "        df2['Decision'][i] = 2\n",
    "    if(df2['Decision'][i] <0.2 and df2['Decision'][i]>=0):\n",
    "        df2['Decision'][i] = 1  \n",
    "        "
   ]
  },
  {
   "cell_type": "code",
   "execution_count": 16,
   "metadata": {},
   "outputs": [
    {
     "name": "stdout",
     "output_type": "stream",
     "text": [
      "Index(['GWAv', 'Jitter', 'Delay', 'ThBps', 'quantity', 'PDR', 'recall',\n",
      "       'Decision'],\n",
      "      dtype='object')\n",
      "       GWAv    Jitter     Delay     ThBps  quantity       PDR  recall\n",
      "0       1.0  1.000000  1.000000  1.000000  1.000000  0.569182    0.68\n",
      "1       1.0  1.000000  1.000000  0.835024  0.890000  0.550135    0.68\n",
      "2       1.0  0.971932  1.000000  0.942382  0.890000  0.520440    0.68\n",
      "3       1.0  0.960778  0.886248  0.673693  0.750000  0.497284    0.68\n",
      "4       1.0  0.954763  0.915704  0.775337  0.780000  0.493353    0.68\n",
      "...     ...       ...       ...       ...       ...       ...     ...\n",
      "14395   1.0  0.869416  0.837015  0.784296  0.884615  0.556604    0.68\n",
      "14396   1.0  0.814536  0.834273  0.736039  0.788462  0.509434    0.68\n",
      "14397   1.0  0.837474  0.793866  0.684164  0.769231  0.566067    0.68\n",
      "14398   1.0  0.824800  0.866114  0.900838  0.932692  0.544969    0.68\n",
      "14399   1.0  0.857868  0.808451  0.712042  0.817308  0.538679    0.68\n",
      "\n",
      "[14400 rows x 7 columns]\n"
     ]
    }
   ],
   "source": [
    "print(df2.columns)\n",
    "df_decision = df2['Decision']\n",
    "df2 = df2.drop(['Decision'],axis=1)\n",
    "print(df2)\n",
    "\n",
    "\n"
   ]
  },
  {
   "cell_type": "code",
   "execution_count": 17,
   "metadata": {},
   "outputs": [],
   "source": [
    "df2_train, df2_test, dec_train, dec_test = train_test_split(df2, df_decision, test_size=0.25, shuffle=False, random_state=42)\n"
   ]
  },
  {
   "cell_type": "code",
   "execution_count": 18,
   "metadata": {},
   "outputs": [
    {
     "name": "stdout",
     "output_type": "stream",
     "text": [
      "[3. 3. 3. ... 2. 2. 2.]\n"
     ]
    }
   ],
   "source": [
    "clf = tree.DecisionTreeClassifier(random_state=0)\n",
    "clf_train = clf.fit(df2_train, dec_train)\n",
    "dec_test = dec_test.to_numpy();\n",
    "yhat = clf_train.predict(df2_test)\n",
    "print(yhat)\n"
   ]
  },
  {
   "cell_type": "code",
   "execution_count": 19,
   "metadata": {},
   "outputs": [
    {
     "name": "stdout",
     "output_type": "stream",
     "text": [
      "3600\n",
      "3600\n",
      "      yhat  y_test\n",
      "0      3.0     3.0\n",
      "1      3.0     3.0\n",
      "2      3.0     3.0\n",
      "3      3.0     3.0\n",
      "4      3.0     3.0\n",
      "...    ...     ...\n",
      "3595   2.0     2.0\n",
      "3596   2.0     2.0\n",
      "3597   2.0     2.0\n",
      "3598   2.0     2.0\n",
      "3599   2.0     2.0\n",
      "\n",
      "[3600 rows x 2 columns]\n"
     ]
    }
   ],
   "source": [
    "print(len(yhat))\n",
    "print(len(dec_test))\n",
    "\n",
    "comp = {'yhat': yhat, 'y_test': dec_test}\n",
    "df_comp = pd.DataFrame(data=comp)\n",
    "print(df_comp)"
   ]
  },
  {
   "cell_type": "code",
   "execution_count": 20,
   "metadata": {},
   "outputs": [],
   "source": [
    "min = 0\n",
    "count = 0;\n",
    "notif_paper = []\n",
    "notif2_paper = []\n",
    "\n",
    "th = 0.5\n",
    "\n",
    "\n",
    "for i in range(0,len(yhat)):\n",
    "    #print([res_QoE['yhat'][i], res_QoE['y_test'][i]])\n",
    "    if (i==0):\n",
    "        notif_paper.append(0)\n",
    "        notif2_paper.append(0)\n",
    "    else:\n",
    "        if(yhat[i] < dec_train[i-1]*th):\n",
    "            notif_paper.append(1)\n",
    "        else:\n",
    "            notif_paper.append(0)\n",
    "        \n",
    "        if(dec_train[i] < dec_train[i-1]*th or dec_train[i] <=2):\n",
    "            notif2_paper.append(1)\n",
    "        else:\n",
    "            notif2_paper.append(0)    \n",
    "\n"
   ]
  },
  {
   "cell_type": "code",
   "execution_count": 21,
   "metadata": {},
   "outputs": [
    {
     "name": "stdout",
     "output_type": "stream",
     "text": [
      "Empty DataFrame\n",
      "Columns: [QoE, QoI, QoD]\n",
      "Index: []\n"
     ]
    }
   ],
   "source": [
    "df_QoI = pd.DataFrame()\n",
    "df_QoE = pd.DataFrame()\n",
    "df_QoD = pd.DataFrame()\n",
    "cols = ['QoE', 'QoI', 'QoD']\n",
    "df = pd.DataFrame(columns=cols)\n",
    "print(df)"
   ]
  },
  {
   "cell_type": "code",
   "execution_count": 22,
   "metadata": {},
   "outputs": [],
   "source": [
    "df_QoI = df_init[['10_QoI','11_QoI','12_QoI','13_QoI','14_QoI','15_QoI','16_QoI','17_QoI','18_QoI','19_QoI']]\n",
    "df_QoE = df_init[['10_QoE','11_QoE','12_QoE','13_QoE','14_QoE','15_QoE','16_QoE','17_QoE','18_QoE','19_QoE']]\n",
    "df_QoD = df_init[['10_QoD','11_QoD','12_QoD','13_QoD','14_QoD','15_QoD','16_QoD','17_QoD','18_QoD','19_QoD']]"
   ]
  },
  {
   "cell_type": "code",
   "execution_count": 23,
   "metadata": {},
   "outputs": [
    {
     "name": "stdout",
     "output_type": "stream",
     "text": [
      "       10_QoE    11_QoE    12_QoE    13_QoE    14_QoE    15_QoE    16_QoE  \\\n",
      "0    0.569182  0.559748  0.550314  0.462264  0.522013  0.558176  0.584906   \n",
      "1    0.459376  0.434293  0.397368  0.518285  0.385625  0.513371  0.466255   \n",
      "2    0.476687  0.524746  0.472734  0.517737  0.387281  0.552621  0.449866   \n",
      "3    0.285263  0.384171  0.523614  0.368490  0.420889  0.428990  0.325203   \n",
      "4    0.334426  0.333515  0.410497  0.372204  0.293478  0.455383  0.271747   \n",
      "..        ...       ...       ...       ...       ...       ...       ...   \n",
      "715  0.318213  0.343339  0.270800  0.246420  0.214114  0.242574  0.263459   \n",
      "716  0.234865  0.367159  0.282594  0.246552  0.236079  0.295959  0.281319   \n",
      "717  0.280108  0.257119  0.307745  0.276031  0.285805  0.292685  0.250733   \n",
      "718  0.240305  0.332097  0.308968  0.248073  0.268852  0.285421  0.326860   \n",
      "719  0.304942  0.314451  0.311922  0.251559  0.371260  0.185458  0.334934   \n",
      "\n",
      "       17_QoE    18_QoE    19_QoE  \n",
      "0    0.584906  0.584906  0.561321  \n",
      "1    0.529874  0.398470  0.438945  \n",
      "2    0.488407  0.516026  0.386290  \n",
      "3    0.428010  0.512377  0.517253  \n",
      "4    0.378568  0.325418  0.373427  \n",
      "..        ...       ...       ...  \n",
      "715  0.263362  0.224710  0.317678  \n",
      "716  0.279071  0.242005  0.254804  \n",
      "717  0.241885  0.344353  0.257482  \n",
      "718  0.327846  0.273299  0.350705  \n",
      "719  0.264849  0.165244  0.266017  \n",
      "\n",
      "[720 rows x 10 columns]\n"
     ]
    }
   ],
   "source": [
    "print(df_QoE)"
   ]
  },
  {
   "cell_type": "code",
   "execution_count": 24,
   "metadata": {},
   "outputs": [
    {
     "name": "stdout",
     "output_type": "stream",
     "text": [
      "[0.56918239 0.45937581 0.47668727 ... 0.25748187 0.350705   0.26601737]\n"
     ]
    }
   ],
   "source": [
    "aux0 = pd.Series(df_QoE['10_QoE'])\n",
    "aux1 = pd.Series(df_QoE['11_QoE'])\n",
    "aux2 = pd.Series(df_QoE['12_QoE'])\n",
    "aux3 = pd.Series(df_QoE['13_QoE'])\n",
    "aux4 = pd.Series(df_QoE['14_QoE'])\n",
    "aux5 = pd.Series(df_QoE['15_QoE'])\n",
    "aux6 = pd.Series(df_QoE['16_QoE'])\n",
    "aux7 = pd.Series(df_QoE['17_QoE'])\n",
    "aux8 = pd.Series(df_QoE['18_QoE'])\n",
    "aux9 = pd.Series(df_QoE['19_QoE'])\n",
    "aux10 = pd.Series(df_QoE['10_QoE'])\n",
    "aux11 = pd.Series(df_QoE['11_QoE'])\n",
    "aux12 = pd.Series(df_QoE['12_QoE'])\n",
    "aux13 = pd.Series(df_QoE['13_QoE'])\n",
    "aux14 = pd.Series(df_QoE['14_QoE'])\n",
    "aux15 = pd.Series(df_QoE['15_QoE'])\n",
    "aux16 = pd.Series(df_QoE['16_QoE'])\n",
    "aux17 = pd.Series(df_QoE['17_QoE'])\n",
    "aux18 = pd.Series(df_QoE['18_QoE'])\n",
    "aux19 = pd.Series(df_QoE['19_QoE'])\n",
    "\n",
    "aux = pd.concat([aux0, aux1, aux2, aux3, aux4, aux5, aux6, aux7, aux8, aux9, aux10, aux11, aux12, aux13, aux14, aux15, aux16, aux17, aux18, aux19],axis=0)\n",
    "aux = np.array(aux)\n",
    "print(aux)\n",
    "\n",
    "df['QoE'] = pd.Series(aux)\n",
    "\n",
    "\n"
   ]
  },
  {
   "cell_type": "code",
   "execution_count": 25,
   "metadata": {},
   "outputs": [
    {
     "name": "stdout",
     "output_type": "stream",
     "text": [
      "            QoE  QoI  QoD\n",
      "0      0.569182  NaN  NaN\n",
      "1      0.459376  NaN  NaN\n",
      "2      0.476687  NaN  NaN\n",
      "3      0.285263  NaN  NaN\n",
      "4      0.334426  NaN  NaN\n",
      "...         ...  ...  ...\n",
      "14395  0.317678  NaN  NaN\n",
      "14396  0.254804  NaN  NaN\n",
      "14397  0.257482  NaN  NaN\n",
      "14398  0.350705  NaN  NaN\n",
      "14399  0.266017  NaN  NaN\n",
      "\n",
      "[14400 rows x 3 columns]\n"
     ]
    }
   ],
   "source": [
    "print(df)"
   ]
  },
  {
   "cell_type": "code",
   "execution_count": 26,
   "metadata": {},
   "outputs": [
    {
     "name": "stdout",
     "output_type": "stream",
     "text": [
      "[0.60214907 0.53591267 0.53037789 ... 0.46319159 0.5616198  0.48963563]\n"
     ]
    }
   ],
   "source": [
    "aux0 = pd.Series(df_QoI['10_QoI'])\n",
    "aux1 = pd.Series(df_QoI['11_QoI'])\n",
    "aux2 = pd.Series(df_QoI['12_QoI'])\n",
    "aux3 = pd.Series(df_QoI['13_QoI'])\n",
    "aux4 = pd.Series(df_QoI['14_QoI'])\n",
    "aux5 = pd.Series(df_QoI['15_QoI'])\n",
    "aux6 = pd.Series(df_QoI['16_QoI'])\n",
    "aux7 = pd.Series(df_QoI['17_QoI'])\n",
    "aux8 = pd.Series(df_QoI['18_QoI'])\n",
    "aux9 = pd.Series(df_QoI['19_QoI'])\n",
    "aux10 = pd.Series(df_QoI['10_QoI'])\n",
    "aux11 = pd.Series(df_QoI['11_QoI'])\n",
    "aux12 = pd.Series(df_QoI['12_QoI'])\n",
    "aux13 = pd.Series(df_QoI['13_QoI'])\n",
    "aux14 = pd.Series(df_QoI['14_QoI'])\n",
    "aux15 = pd.Series(df_QoI['15_QoI'])\n",
    "aux16 = pd.Series(df_QoI['16_QoI'])\n",
    "aux17 = pd.Series(df_QoI['17_QoI'])\n",
    "aux18 = pd.Series(df_QoI['18_QoI'])\n",
    "aux19 = pd.Series(df_QoI['19_QoI'])\n",
    "\n",
    "aux = pd.concat([aux0, aux1, aux2, aux3, aux4, aux5, aux6, aux7, aux8, aux9, aux10, aux11, aux12, aux13, aux14, aux15, aux16, aux17, aux18, aux19],axis=0)\n",
    "aux = np.array(aux)\n",
    "print(aux)\n",
    "\n",
    "df['QoI'] = pd.Series(aux)\n"
   ]
  },
  {
   "cell_type": "code",
   "execution_count": 27,
   "metadata": {},
   "outputs": [
    {
     "name": "stdout",
     "output_type": "stream",
     "text": [
      "            QoE       QoI  QoD\n",
      "0      0.569182  0.602149  NaN\n",
      "1      0.459376  0.535913  NaN\n",
      "2      0.476687  0.530378  NaN\n",
      "3      0.285263  0.446948  NaN\n",
      "4      0.334426  0.469676  NaN\n",
      "...         ...       ...  ...\n",
      "14395  0.317678  0.532670  NaN\n",
      "14396  0.254804  0.472354  NaN\n",
      "14397  0.257482  0.463192  NaN\n",
      "14398  0.350705  0.561620  NaN\n",
      "14399  0.266017  0.489636  NaN\n",
      "\n",
      "[14400 rows x 3 columns]\n"
     ]
    }
   ],
   "source": [
    "print(df)"
   ]
  },
  {
   "cell_type": "code",
   "execution_count": 28,
   "metadata": {},
   "outputs": [
    {
     "name": "stdout",
     "output_type": "stream",
     "text": [
      "[0.08228395 0.43324317 0.58159939 ... 0.56091821 0.60366552 0.59320988]\n"
     ]
    }
   ],
   "source": [
    "aux0 = pd.Series(df_QoD['10_QoD'])\n",
    "aux1 = pd.Series(df_QoD['11_QoD'])\n",
    "aux2 = pd.Series(df_QoD['12_QoD'])\n",
    "aux3 = pd.Series(df_QoD['13_QoD'])\n",
    "aux4 = pd.Series(df_QoD['14_QoD'])\n",
    "aux5 = pd.Series(df_QoD['15_QoD'])\n",
    "aux6 = pd.Series(df_QoD['16_QoD'])\n",
    "aux7 = pd.Series(df_QoD['17_QoD'])\n",
    "aux8 = pd.Series(df_QoD['18_QoD'])\n",
    "aux9 = pd.Series(df_QoD['19_QoD'])\n",
    "aux10 = pd.Series(df_QoD['10_QoD'])\n",
    "aux11 = pd.Series(df_QoD['11_QoD'])\n",
    "aux12 = pd.Series(df_QoD['12_QoD'])\n",
    "aux13 = pd.Series(df_QoD['13_QoD'])\n",
    "aux14 = pd.Series(df_QoD['14_QoD'])\n",
    "aux15 = pd.Series(df_QoD['15_QoD'])\n",
    "aux16 = pd.Series(df_QoD['16_QoD'])\n",
    "aux17 = pd.Series(df_QoD['17_QoD'])\n",
    "aux18 = pd.Series(df_QoD['18_QoD'])\n",
    "aux19 = pd.Series(df_QoD['19_QoD'])\n",
    "\n",
    "aux = pd.concat([aux0, aux1, aux2, aux3, aux4, aux5, aux6, aux7, aux8, aux9, aux10, aux11, aux12, aux13, aux14, aux15, aux16, aux17, aux18, aux19],axis=0)\n",
    "aux = np.array(aux)\n",
    "print(aux)\n",
    "\n",
    "df['QoD'] = pd.Series(aux)\n"
   ]
  },
  {
   "cell_type": "code",
   "execution_count": 29,
   "metadata": {},
   "outputs": [
    {
     "name": "stdout",
     "output_type": "stream",
     "text": [
      "            QoE       QoI       QoD\n",
      "0      0.569182  0.602149  0.082284\n",
      "1      0.459376  0.535913  0.433243\n",
      "2      0.476687  0.530378  0.581599\n",
      "3      0.285263  0.446948  0.579177\n",
      "4      0.334426  0.469676  0.592474\n",
      "...         ...       ...       ...\n",
      "14395  0.317678  0.532670  0.575114\n",
      "14396  0.254804  0.472354  0.603245\n",
      "14397  0.257482  0.463192  0.560918\n",
      "14398  0.350705  0.561620  0.603666\n",
      "14399  0.266017  0.489636  0.593210\n",
      "\n",
      "[14400 rows x 3 columns]\n"
     ]
    }
   ],
   "source": [
    "print(df)\n",
    "df_bup = df"
   ]
  },
  {
   "cell_type": "code",
   "execution_count": 30,
   "metadata": {},
   "outputs": [
    {
     "name": "stdout",
     "output_type": "stream",
     "text": [
      "[0.0000e+00 1.0000e+00 2.0000e+00 ... 1.4397e+04 1.4398e+04 1.4399e+04]\n"
     ]
    }
   ],
   "source": [
    "var_x = np.linspace(0.0, df.shape[0]-1, num=df.shape[0])\n",
    "print(var_x)"
   ]
  },
  {
   "cell_type": "code",
   "execution_count": 31,
   "metadata": {},
   "outputs": [
    {
     "name": "stdout",
     "output_type": "stream",
     "text": [
      "/home/jmmcaro/PythonDir/PythonEnv/QoX/code\n"
     ]
    }
   ],
   "source": [
    "print(os.getcwd())"
   ]
  },
  {
   "cell_type": "code",
   "execution_count": 32,
   "metadata": {},
   "outputs": [
    {
     "name": "stdout",
     "output_type": "stream",
     "text": [
      "[313, 8422, 7084, 9447, 6100, 10231, 13963, 8961, 12375, 7111]\n",
      "[1, 5, 3, 8, 6, 2, 8, 10, 8, 10]\n",
      "-----------------------------\n",
      "[13672, 8126, 2108, 12653, 6338, 9784, 8301, 4455, 9423, 2979]\n",
      "[16, 12, 10, 11, 11, 16, 12, 11, 12, 18]\n",
      "-----------------------------\n",
      "[3057, 1006, 13747, 2715, 4852]\n",
      "[392, 232, 225, 496, 231]\n",
      "-----------------------------\n"
     ]
    },
    {
     "data": {
      "image/png": "[encoded data removed]",
      "text/plain": [
       "<Figure size 1080x720 with 1 Axes>"
      ]
     },
     "metadata": {
      "needs_background": "light"
     },
     "output_type": "display_data"
    }
   ],
   "source": [
    "random.seed(43)\n",
    "\n",
    "lent = df['QoE'].shape[0]\n",
    "\n",
    "leng1 = [random.randint(1,10) for i in range(10)]\n",
    "init1 = [random.randint(0,lent) for i in range(10)]\n",
    "\n",
    "\n",
    "print(init1)\n",
    "print(leng1)\n",
    "print('-----------------------------')\n",
    "\n",
    "leng2 = [random.randint(10,20) for i in range(10)]\n",
    "init2 = [random.randint(0,lent) for i in range(10)]\n",
    "print(init2)\n",
    "print(leng2)\n",
    "print('-----------------------------')\n",
    "\n",
    "\n",
    "leng3 = [random.randint(200,500) for i in range(5)]\n",
    "init3 = [random.randint(0,lent) for i in range(5)]\n",
    "print(init3)\n",
    "print(leng3)\n",
    "print('-----------------------------')\n",
    "\n",
    "for i in range(0,len(leng1)):\n",
    "    df['QoE'][init1[i]:init1[i]+leng1[i]] = df['QoE'][init1[i]:init1[i]+leng1[i]] * 0.1;\n",
    "    #print(df['QoE'][init1[i]:init1[i]+leng1[i]])\n",
    "    \n",
    "for i in range(0,len(leng2)):\n",
    "    df['QoE'][init2[i]:init2[i]+leng2[i]] = df['QoE'][init2[i]:init2[i]+leng2[i]] * 0.2;\n",
    "    #print(df['QoE'][init2[i]:init2[i]+leng2[i]])\n",
    "    \n",
    "for i in range(0,len(leng3)):\n",
    "    df['QoE'][init3[i]:init3[i]+leng3[i]] = df['QoE'][init3[i]:init3[i]+leng3[i]] * 0;\n",
    "    #print(df['QoE'][init2[i]:init2[i]+leng2[i]])\n",
    "\n",
    "    \n",
    "fig = plt.figure(figsize=(15,10))\n",
    "plt.plot(var_x,df['QoE'])\n",
    "plt.tick_params(axis='x', labelsize=20)\n",
    "plt.tick_params(axis='y', labelsize=20)\n",
    "plt.show()"
   ]
  },
  {
   "cell_type": "code",
   "execution_count": 33,
   "metadata": {},
   "outputs": [
    {
     "name": "stdout",
     "output_type": "stream",
     "text": [
      "[2773, 5632, 12235, 2168, 4276, 12164, 918, 2772, 768, 5902]\n",
      "[10, 4, 8, 9, 8, 9, 6, 8, 1, 1]\n",
      "-----------------------------\n",
      "[8381, 10817, 6606, 902, 5444, 4560, 2510, 1482, 12870, 11096]\n",
      "[13, 17, 13, 13, 12, 12, 15, 18, 20, 15]\n",
      "-----------------------------\n",
      "[10764, 12730, 2543, 12433, 848]\n",
      "[483, 411, 398, 424, 326]\n",
      "-----------------------------\n"
     ]
    },
    {
     "data": {
      "image/png": "[encoded data removed]",
      "text/plain": [
       "<Figure size 1080x720 with 1 Axes>"
      ]
     },
     "metadata": {
      "needs_background": "light"
     },
     "output_type": "display_data"
    }
   ],
   "source": [
    "random.seed(53)\n",
    "\n",
    "lent = df['QoD'].shape[0]\n",
    "\n",
    "leng1 = [random.randint(1,10) for i in range(10)]\n",
    "init1 = [random.randint(0,lent) for i in range(10)]\n",
    "\n",
    "\n",
    "print(init1)\n",
    "print(leng1)\n",
    "print('-----------------------------')\n",
    "\n",
    "leng2 = [random.randint(10,20) for i in range(10)]\n",
    "init2 = [random.randint(0,lent) for i in range(10)]\n",
    "print(init2)\n",
    "print(leng2)\n",
    "print('-----------------------------')\n",
    "\n",
    "\n",
    "leng3 = [random.randint(200,500) for i in range(5)]\n",
    "init3 = [random.randint(0,lent) for i in range(5)]\n",
    "print(init3)\n",
    "print(leng3)\n",
    "print('-----------------------------')\n",
    "\n",
    "for i in range(0,len(leng1)):\n",
    "    df['QoD'][init1[i]:init1[i]+leng1[i]] = df['QoD'][init1[i]:init1[i]+leng1[i]] * 0.1;\n",
    "    #print(df['QoD'][init1[i]:init1[i]+leng1[i]])\n",
    "    \n",
    "for i in range(0,len(leng2)):\n",
    "    df['QoD'][init2[i]:init2[i]+leng2[i]] = df['QoD'][init2[i]:init2[i]+leng2[i]] * 0.2;\n",
    "    #print(df['QoD'][init2[i]:init2[i]+leng2[i]])\n",
    "    \n",
    "for i in range(0,len(leng3)):\n",
    "    df['QoD'][init3[i]:init3[i]+leng3[i]] = df['QoD'][init3[i]:init3[i]+leng3[i]] * 0;\n",
    "    #print(df['QoD'][init2[i]:init2[i]+leng2[i]])\n",
    "\n",
    "    \n",
    "fig = plt.figure(figsize=(15,10))\n",
    "plt.plot(var_x,df['QoD'])\n",
    "plt.tick_params(axis='x', labelsize=20)\n",
    "plt.tick_params(axis='y', labelsize=20)\n",
    "plt.show()"
   ]
  },
  {
   "cell_type": "code",
   "execution_count": 34,
   "metadata": {},
   "outputs": [
    {
     "name": "stdout",
     "output_type": "stream",
     "text": [
      "[4764, 1211, 13541, 10292, 5029, 13804, 12226, 10013, 984, 3644]\n",
      "[8, 8, 5, 5, 8, 2, 7, 2, 2, 4]\n",
      "-----------------------------\n",
      "[11727, 2671, 3732, 12499, 10042, 9103, 7010, 7068, 10465, 5914]\n",
      "[20, 12, 15, 13, 14, 19, 20, 10, 10, 19]\n",
      "-----------------------------\n",
      "[5593, 10223, 5401, 12314, 1925]\n",
      "[449, 305, 254, 216, 218]\n",
      "-----------------------------\n"
     ]
    },
    {
     "data": {
      "image/png": "[encoded data removed]",
      "text/plain": [
       "<Figure size 1080x720 with 1 Axes>"
      ]
     },
     "metadata": {
      "needs_background": "light"
     },
     "output_type": "display_data"
    }
   ],
   "source": [
    "random.seed(63)\n",
    "\n",
    "lent = df['QoI'].shape[0]\n",
    "\n",
    "leng1 = [random.randint(1,10) for i in range(10)]\n",
    "init1 = [random.randint(0,lent) for i in range(10)]\n",
    "\n",
    "\n",
    "print(init1)\n",
    "print(leng1)\n",
    "print('-----------------------------')\n",
    "\n",
    "leng2 = [random.randint(10,20) for i in range(10)]\n",
    "init2 = [random.randint(0,lent) for i in range(10)]\n",
    "print(init2)\n",
    "print(leng2)\n",
    "print('-----------------------------')\n",
    "\n",
    "\n",
    "leng3 = [random.randint(200,500) for i in range(5)]\n",
    "init3 = [random.randint(0,lent) for i in range(5)]\n",
    "print(init3)\n",
    "print(leng3)\n",
    "print('-----------------------------')\n",
    "\n",
    "for i in range(0,len(leng1)):\n",
    "    df['QoI'][init1[i]:init1[i]+leng1[i]] = df['QoI'][init1[i]:init1[i]+leng1[i]] * 0.1;\n",
    "    #print(df['QoI'][init1[i]:init1[i]+leng1[i]])\n",
    "    \n",
    "for i in range(0,len(leng2)):\n",
    "    df['QoI'][init2[i]:init2[i]+leng2[i]] = df['QoI'][init2[i]:init2[i]+leng2[i]] * 0.2;\n",
    "    #print(df['QoI'][init2[i]:init2[i]+leng2[i]])\n",
    "    \n",
    "for i in range(0,len(leng3)):\n",
    "    df['QoI'][init3[i]:init3[i]+leng3[i]] = df['QoI'][init3[i]:init3[i]+leng3[i]] * 0;\n",
    "    #print(df['QoI'][init2[i]:init2[i]+leng2[i]])\n",
    "\n",
    "    \n",
    "fig = plt.figure(figsize=(15,10))\n",
    "plt.plot(var_x,df['QoI'])\n",
    "plt.tick_params(axis='x', labelsize=20)\n",
    "plt.tick_params(axis='y', labelsize=20)\n",
    "plt.show()"
   ]
  },
  {
   "cell_type": "code",
   "execution_count": 35,
   "metadata": {},
   "outputs": [
    {
     "name": "stdout",
     "output_type": "stream",
     "text": [
      "[7982, 6623, 8485, 8200, 3313, 7387, 1808, 362, 4179, 6743]\n",
      "[5, 2, 9, 8, 10, 3, 8, 5, 10, 2]\n",
      "-----------------------------\n",
      "[4342, 9317, 9745, 3317, 12900, 14336, 11667, 14019, 1487, 7606]\n",
      "[10, 16, 15, 18, 16, 17, 18, 16, 12, 10]\n",
      "-----------------------------\n",
      "[3560, 14219, 13152, 13181, 4438]\n",
      "[378, 351, 266, 317, 212]\n",
      "-----------------------------\n"
     ]
    },
    {
     "data": {
      "image/png": "[encoded data removed]",
      "text/plain": [
       "<Figure size 1080x720 with 1 Axes>"
      ]
     },
     "metadata": {
      "needs_background": "light"
     },
     "output_type": "display_data"
    }
   ],
   "source": [
    "random.seed(73)\n",
    "\n",
    "df['QC'] = pd.read_csv('../csv/S1_Urban_QC.csv')\n",
    "lent = df['QC'].shape[0]\n",
    "\n",
    "leng1 = [random.randint(1,10) for i in range(10)]\n",
    "init1 = [random.randint(0,lent) for i in range(10)]\n",
    "\n",
    "\n",
    "print(init1)\n",
    "print(leng1)\n",
    "print('-----------------------------')\n",
    "\n",
    "leng2 = [random.randint(10,20) for i in range(10)]\n",
    "init2 = [random.randint(0,lent) for i in range(10)]\n",
    "print(init2)\n",
    "print(leng2)\n",
    "print('-----------------------------')\n",
    "\n",
    "\n",
    "leng3 = [random.randint(200,500) for i in range(5)]\n",
    "init3 = [random.randint(0,lent) for i in range(5)]\n",
    "print(init3)\n",
    "print(leng3)\n",
    "print('-----------------------------')\n",
    "\n",
    "for i in range(0,len(leng1)):\n",
    "    df['QC'][init1[i]:init1[i]+leng1[i]] = df['QC'][init1[i]:init1[i]+leng1[i]] * 0.1;\n",
    "    #print(df['QoE'][init1[i]:init1[i]+leng1[i]])\n",
    "    \n",
    "for i in range(0,len(leng2)):\n",
    "    df['QC'][init2[i]:init2[i]+leng2[i]] = df['QC'][init2[i]:init2[i]+leng2[i]] * 0.2;\n",
    "    #print(df['QoE'][init2[i]:init2[i]+leng2[i]])\n",
    "    \n",
    "for i in range(0,len(leng3)):\n",
    "    df['QC'][init3[i]:init3[i]+leng3[i]] = df['QC'][init3[i]:init3[i]+leng3[i]] * 0;\n",
    "    #print(df['QoE'][init2[i]:init2[i]+leng2[i]])\n",
    "\n",
    "    \n",
    "fig = plt.figure(figsize=(15,10))\n",
    "plt.plot(var_x,df['QC'])\n",
    "plt.tick_params(axis='x', labelsize=20)\n",
    "plt.tick_params(axis='y', labelsize=20)\n",
    "plt.show()"
   ]
  },
  {
   "cell_type": "code",
   "execution_count": 36,
   "metadata": {},
   "outputs": [],
   "source": [
    "# split a univariate sequence into samples\n",
    "def split_sequence(sequence, n_steps):\n",
    "\tX, y = list(), list()\n",
    "\tfor i in range(len(sequence)):\n",
    "\t\t# find the end of this pattern\n",
    "\t\tend_ix = i + n_steps\n",
    "\t\t# check if we are beyond the sequence\n",
    "\t\tif end_ix > len(sequence)-1:\n",
    "\t\t\tbreak\n",
    "\t\t# gather input and output parts of the pattern\n",
    "\t\tseq_x, seq_y = sequence[i:end_ix], sequence[end_ix]\n",
    "\t\tX.append(seq_x)\n",
    "\t\ty.append(seq_y)\n",
    "\treturn np.array(X), np.array(y)\n",
    " \n"
   ]
  },
  {
   "cell_type": "code",
   "execution_count": 37,
   "metadata": {
    "scrolled": false
   },
   "outputs": [],
   "source": [
    "from sklearn.model_selection import train_test_split\n",
    "\n",
    "# choose a number of time steps\n",
    "n_steps = 5\n",
    "# split into samples\n",
    "X_QoE, y_QoE = split_sequence(df['QoE'], n_steps)\n",
    "# summarize the data\n",
    "#for i in range(len(X)):\n",
    "#\tprint(X[i], y[i])\n",
    "    \n"
   ]
  },
  {
   "cell_type": "code",
   "execution_count": 38,
   "metadata": {},
   "outputs": [
    {
     "name": "stdout",
     "output_type": "stream",
     "text": [
      "Epoch 1/150\n",
      "2/2 [==============================] - 0s 13ms/step - loss: 0.0674\n",
      "Epoch 2/150\n",
      "2/2 [==============================] - 0s 12ms/step - loss: 0.0607\n",
      "Epoch 3/150\n",
      "2/2 [==============================] - 0s 10ms/step - loss: 0.0548\n",
      "Epoch 4/150\n",
      "2/2 [==============================] - 0s 13ms/step - loss: 0.0495\n",
      "Epoch 5/150\n",
      "2/2 [==============================] - 0s 11ms/step - loss: 0.0449\n",
      "Epoch 6/150\n",
      "2/2 [==============================] - 0s 11ms/step - loss: 0.0408\n",
      "Epoch 7/150\n",
      "2/2 [==============================] - 0s 10ms/step - loss: 0.0372\n",
      "Epoch 8/150\n",
      "2/2 [==============================] - 0s 12ms/step - loss: 0.0340\n",
      "Epoch 9/150\n",
      "2/2 [==============================] - 0s 14ms/step - loss: 0.0312\n",
      "Epoch 10/150\n",
      "2/2 [==============================] - 0s 13ms/step - loss: 0.0287\n",
      "Epoch 11/150\n",
      "2/2 [==============================] - 0s 9ms/step - loss: 0.0265\n",
      "Epoch 12/150\n",
      "2/2 [==============================] - 0s 13ms/step - loss: 0.0245\n",
      "Epoch 13/150\n",
      "2/2 [==============================] - 0s 12ms/step - loss: 0.0227\n",
      "Epoch 14/150\n",
      "2/2 [==============================] - 0s 12ms/step - loss: 0.0212\n",
      "Epoch 15/150\n",
      "2/2 [==============================] - 0s 10ms/step - loss: 0.0198\n",
      "Epoch 16/150\n",
      "2/2 [==============================] - 0s 10ms/step - loss: 0.0185\n",
      "Epoch 17/150\n",
      "2/2 [==============================] - 0s 10ms/step - loss: 0.0174\n",
      "Epoch 18/150\n",
      "2/2 [==============================] - 0s 14ms/step - loss: 0.0164\n",
      "Epoch 19/150\n",
      "2/2 [==============================] - 0s 9ms/step - loss: 0.0156\n",
      "Epoch 20/150\n",
      "2/2 [==============================] - 0s 12ms/step - loss: 0.0148\n",
      "Epoch 21/150\n",
      "2/2 [==============================] - 0s 10ms/step - loss: 0.0141\n",
      "Epoch 22/150\n",
      "2/2 [==============================] - 0s 10ms/step - loss: 0.0135\n",
      "Epoch 23/150\n",
      "2/2 [==============================] - 0s 11ms/step - loss: 0.0130\n",
      "Epoch 24/150\n",
      "2/2 [==============================] - 0s 9ms/step - loss: 0.0125\n",
      "Epoch 25/150\n",
      "2/2 [==============================] - 0s 9ms/step - loss: 0.0120\n",
      "Epoch 26/150\n",
      "2/2 [==============================] - 0s 9ms/step - loss: 0.0117\n",
      "Epoch 27/150\n",
      "2/2 [==============================] - 0s 9ms/step - loss: 0.0113\n",
      "Epoch 28/150\n",
      "2/2 [==============================] - 0s 10ms/step - loss: 0.0110\n",
      "Epoch 29/150\n",
      "2/2 [==============================] - 0s 14ms/step - loss: 0.0107\n",
      "Epoch 30/150\n",
      "2/2 [==============================] - 0s 11ms/step - loss: 0.0105\n",
      "Epoch 31/150\n",
      "2/2 [==============================] - 0s 12ms/step - loss: 0.0103\n",
      "Epoch 32/150\n",
      "2/2 [==============================] - 0s 11ms/step - loss: 0.0101\n",
      "Epoch 33/150\n",
      "2/2 [==============================] - 0s 10ms/step - loss: 0.0099\n",
      "Epoch 34/150\n",
      "2/2 [==============================] - 0s 9ms/step - loss: 0.0098\n",
      "Epoch 35/150\n",
      "2/2 [==============================] - 0s 10ms/step - loss: 0.0096\n",
      "Epoch 36/150\n",
      "2/2 [==============================] - 0s 9ms/step - loss: 0.0095\n",
      "Epoch 37/150\n",
      "2/2 [==============================] - 0s 10ms/step - loss: 0.0094\n",
      "Epoch 38/150\n",
      "2/2 [==============================] - 0s 10ms/step - loss: 0.0093\n",
      "Epoch 39/150\n",
      "2/2 [==============================] - 0s 9ms/step - loss: 0.0092\n",
      "Epoch 40/150\n",
      "2/2 [==============================] - 0s 10ms/step - loss: 0.0091\n",
      "Epoch 41/150\n",
      "2/2 [==============================] - 0s 10ms/step - loss: 0.0090\n",
      "Epoch 42/150\n",
      "2/2 [==============================] - 0s 13ms/step - loss: 0.0090\n",
      "Epoch 43/150\n",
      "2/2 [==============================] - 0s 11ms/step - loss: 0.0089\n",
      "Epoch 44/150\n",
      "2/2 [==============================] - 0s 10ms/step - loss: 0.0088\n",
      "Epoch 45/150\n",
      "2/2 [==============================] - 0s 10ms/step - loss: 0.0088\n",
      "Epoch 46/150\n",
      "2/2 [==============================] - 0s 11ms/step - loss: 0.0088\n",
      "Epoch 47/150\n",
      "2/2 [==============================] - 0s 11ms/step - loss: 0.0087\n",
      "Epoch 48/150\n",
      "2/2 [==============================] - 0s 9ms/step - loss: 0.0087\n",
      "Epoch 49/150\n",
      "2/2 [==============================] - 0s 13ms/step - loss: 0.0086\n",
      "Epoch 50/150\n",
      "2/2 [==============================] - 0s 13ms/step - loss: 0.0086\n",
      "Epoch 51/150\n",
      "2/2 [==============================] - 0s 8ms/step - loss: 0.0086\n",
      "Epoch 52/150\n",
      "2/2 [==============================] - 0s 11ms/step - loss: 0.0085\n",
      "Epoch 53/150\n",
      "2/2 [==============================] - 0s 9ms/step - loss: 0.0085\n",
      "Epoch 54/150\n",
      "2/2 [==============================] - 0s 9ms/step - loss: 0.0085\n",
      "Epoch 55/150\n",
      "2/2 [==============================] - 0s 10ms/step - loss: 0.0085\n",
      "Epoch 56/150\n",
      "2/2 [==============================] - 0s 13ms/step - loss: 0.0084\n",
      "Epoch 57/150\n",
      "2/2 [==============================] - 0s 10ms/step - loss: 0.0084\n",
      "Epoch 58/150\n",
      "2/2 [==============================] - 0s 9ms/step - loss: 0.0084\n",
      "Epoch 59/150\n",
      "2/2 [==============================] - 0s 9ms/step - loss: 0.0084\n",
      "Epoch 60/150\n",
      "2/2 [==============================] - 0s 12ms/step - loss: 0.0083\n",
      "Epoch 61/150\n",
      "2/2 [==============================] - 0s 9ms/step - loss: 0.0083\n",
      "Epoch 62/150\n",
      "2/2 [==============================] - 0s 13ms/step - loss: 0.0083\n",
      "Epoch 63/150\n",
      "2/2 [==============================] - 0s 12ms/step - loss: 0.0083\n",
      "Epoch 64/150\n",
      "2/2 [==============================] - 0s 11ms/step - loss: 0.0083\n",
      "Epoch 65/150\n",
      "2/2 [==============================] - 0s 10ms/step - loss: 0.0083\n",
      "Epoch 66/150\n",
      "2/2 [==============================] - 0s 9ms/step - loss: 0.0082\n",
      "Epoch 67/150\n",
      "2/2 [==============================] - 0s 8ms/step - loss: 0.0082\n",
      "Epoch 68/150\n",
      "2/2 [==============================] - 0s 12ms/step - loss: 0.0082\n",
      "Epoch 69/150\n",
      "2/2 [==============================] - 0s 11ms/step - loss: 0.0082\n",
      "Epoch 70/150\n",
      "2/2 [==============================] - 0s 11ms/step - loss: 0.0082\n",
      "Epoch 71/150\n",
      "2/2 [==============================] - 0s 12ms/step - loss: 0.0082\n",
      "Epoch 72/150\n",
      "2/2 [==============================] - 0s 10ms/step - loss: 0.0082\n",
      "Epoch 73/150\n",
      "2/2 [==============================] - 0s 12ms/step - loss: 0.0081\n",
      "Epoch 74/150\n",
      "2/2 [==============================] - 0s 9ms/step - loss: 0.0081\n",
      "Epoch 75/150\n",
      "2/2 [==============================] - 0s 10ms/step - loss: 0.0081\n",
      "Epoch 76/150\n",
      "2/2 [==============================] - 0s 9ms/step - loss: 0.0081\n",
      "Epoch 77/150\n",
      "2/2 [==============================] - 0s 12ms/step - loss: 0.0081\n",
      "Epoch 78/150\n",
      "2/2 [==============================] - 0s 11ms/step - loss: 0.0081\n",
      "Epoch 79/150\n",
      "2/2 [==============================] - 0s 13ms/step - loss: 0.0081\n",
      "Epoch 80/150\n",
      "2/2 [==============================] - 0s 8ms/step - loss: 0.0081\n",
      "Epoch 81/150\n",
      "2/2 [==============================] - 0s 10ms/step - loss: 0.0080\n",
      "Epoch 82/150\n",
      "2/2 [==============================] - 0s 12ms/step - loss: 0.0080\n",
      "Epoch 83/150\n",
      "2/2 [==============================] - 0s 9ms/step - loss: 0.0080\n",
      "Epoch 84/150\n",
      "2/2 [==============================] - 0s 10ms/step - loss: 0.0080\n",
      "Epoch 85/150\n",
      "2/2 [==============================] - 0s 11ms/step - loss: 0.0080\n",
      "Epoch 86/150\n",
      "2/2 [==============================] - 0s 11ms/step - loss: 0.0080\n",
      "Epoch 87/150\n",
      "2/2 [==============================] - 0s 11ms/step - loss: 0.0080\n",
      "Epoch 88/150\n",
      "2/2 [==============================] - 0s 13ms/step - loss: 0.0080\n",
      "Epoch 89/150\n",
      "2/2 [==============================] - 0s 11ms/step - loss: 0.0080\n",
      "Epoch 90/150\n",
      "2/2 [==============================] - 0s 9ms/step - loss: 0.0079\n",
      "Epoch 91/150\n",
      "2/2 [==============================] - 0s 10ms/step - loss: 0.0079\n",
      "Epoch 92/150\n",
      "2/2 [==============================] - 0s 12ms/step - loss: 0.0079\n",
      "Epoch 93/150\n",
      "2/2 [==============================] - 0s 12ms/step - loss: 0.0079\n",
      "Epoch 94/150\n",
      "2/2 [==============================] - 0s 11ms/step - loss: 0.0079\n",
      "Epoch 95/150\n",
      "2/2 [==============================] - 0s 9ms/step - loss: 0.0079\n",
      "Epoch 96/150\n",
      "2/2 [==============================] - 0s 9ms/step - loss: 0.0079\n",
      "Epoch 97/150\n",
      "2/2 [==============================] - 0s 12ms/step - loss: 0.0079\n",
      "Epoch 98/150\n",
      "2/2 [==============================] - 0s 10ms/step - loss: 0.0078\n",
      "Epoch 99/150\n",
      "2/2 [==============================] - 0s 10ms/step - loss: 0.0078\n",
      "Epoch 100/150\n",
      "2/2 [==============================] - 0s 11ms/step - loss: 0.0078\n",
      "Epoch 101/150\n",
      "2/2 [==============================] - 0s 11ms/step - loss: 0.0078\n",
      "Epoch 102/150\n",
      "2/2 [==============================] - 0s 9ms/step - loss: 0.0078\n",
      "Epoch 103/150\n"
     ]
    },
    {
     "name": "stdout",
     "output_type": "stream",
     "text": [
      "2/2 [==============================] - 0s 9ms/step - loss: 0.0078\n",
      "Epoch 104/150\n",
      "2/2 [==============================] - 0s 9ms/step - loss: 0.0078\n",
      "Epoch 105/150\n",
      "2/2 [==============================] - 0s 9ms/step - loss: 0.0078\n",
      "Epoch 106/150\n",
      "2/2 [==============================] - 0s 13ms/step - loss: 0.0078\n",
      "Epoch 107/150\n",
      "2/2 [==============================] - 0s 10ms/step - loss: 0.0078\n",
      "Epoch 108/150\n",
      "2/2 [==============================] - 0s 15ms/step - loss: 0.0077\n",
      "Epoch 109/150\n",
      "2/2 [==============================] - 0s 10ms/step - loss: 0.0077\n",
      "Epoch 110/150\n",
      "2/2 [==============================] - 0s 11ms/step - loss: 0.0077\n",
      "Epoch 111/150\n",
      "2/2 [==============================] - 0s 11ms/step - loss: 0.0077\n",
      "Epoch 112/150\n",
      "2/2 [==============================] - 0s 11ms/step - loss: 0.0077\n",
      "Epoch 113/150\n",
      "2/2 [==============================] - 0s 11ms/step - loss: 0.0077\n",
      "Epoch 114/150\n",
      "2/2 [==============================] - 0s 10ms/step - loss: 0.0077\n",
      "Epoch 115/150\n",
      "2/2 [==============================] - 0s 12ms/step - loss: 0.0077\n",
      "Epoch 116/150\n",
      "2/2 [==============================] - 0s 10ms/step - loss: 0.0077\n",
      "Epoch 117/150\n",
      "2/2 [==============================] - 0s 12ms/step - loss: 0.0076\n",
      "Epoch 118/150\n",
      "2/2 [==============================] - 0s 9ms/step - loss: 0.0076\n",
      "Epoch 119/150\n",
      "2/2 [==============================] - 0s 9ms/step - loss: 0.0076\n",
      "Epoch 120/150\n",
      "2/2 [==============================] - 0s 9ms/step - loss: 0.0076\n",
      "Epoch 121/150\n",
      "2/2 [==============================] - 0s 10ms/step - loss: 0.0076\n",
      "Epoch 122/150\n",
      "2/2 [==============================] - 0s 10ms/step - loss: 0.0076\n",
      "Epoch 123/150\n",
      "2/2 [==============================] - 0s 9ms/step - loss: 0.0076\n",
      "Epoch 124/150\n",
      "2/2 [==============================] - 0s 10ms/step - loss: 0.0076\n",
      "Epoch 125/150\n",
      "2/2 [==============================] - 0s 9ms/step - loss: 0.0076\n",
      "Epoch 126/150\n",
      "2/2 [==============================] - 0s 11ms/step - loss: 0.0076\n",
      "Epoch 127/150\n",
      "2/2 [==============================] - 0s 10ms/step - loss: 0.0075\n",
      "Epoch 128/150\n",
      "2/2 [==============================] - 0s 10ms/step - loss: 0.0075\n",
      "Epoch 129/150\n",
      "2/2 [==============================] - 0s 9ms/step - loss: 0.0075\n",
      "Epoch 130/150\n",
      "2/2 [==============================] - 0s 10ms/step - loss: 0.0075\n",
      "Epoch 131/150\n",
      "2/2 [==============================] - 0s 11ms/step - loss: 0.0075\n",
      "Epoch 132/150\n",
      "2/2 [==============================] - 0s 9ms/step - loss: 0.0075\n",
      "Epoch 133/150\n",
      "2/2 [==============================] - 0s 9ms/step - loss: 0.0075\n",
      "Epoch 134/150\n",
      "2/2 [==============================] - 0s 8ms/step - loss: 0.0075\n",
      "Epoch 135/150\n",
      "2/2 [==============================] - 0s 10ms/step - loss: 0.0075\n",
      "Epoch 136/150\n",
      "2/2 [==============================] - 0s 9ms/step - loss: 0.0075\n",
      "Epoch 137/150\n",
      "2/2 [==============================] - 0s 9ms/step - loss: 0.0074\n",
      "Epoch 138/150\n",
      "2/2 [==============================] - 0s 11ms/step - loss: 0.0074\n",
      "Epoch 139/150\n",
      "2/2 [==============================] - 0s 12ms/step - loss: 0.0074\n",
      "Epoch 140/150\n",
      "2/2 [==============================] - 0s 10ms/step - loss: 0.0074\n",
      "Epoch 141/150\n",
      "2/2 [==============================] - 0s 11ms/step - loss: 0.0074\n",
      "Epoch 142/150\n",
      "2/2 [==============================] - 0s 11ms/step - loss: 0.0074\n",
      "Epoch 143/150\n",
      "2/2 [==============================] - 0s 10ms/step - loss: 0.0074\n",
      "Epoch 144/150\n",
      "2/2 [==============================] - 0s 10ms/step - loss: 0.0074\n",
      "Epoch 145/150\n",
      "2/2 [==============================] - 0s 9ms/step - loss: 0.0074\n",
      "Epoch 146/150\n",
      "2/2 [==============================] - 0s 10ms/step - loss: 0.0074\n",
      "Epoch 147/150\n",
      "2/2 [==============================] - 0s 10ms/step - loss: 0.0074\n",
      "Epoch 148/150\n",
      "2/2 [==============================] - 0s 10ms/step - loss: 0.0073\n",
      "Epoch 149/150\n",
      "2/2 [==============================] - 0s 11ms/step - loss: 0.0073\n",
      "Epoch 150/150\n",
      "2/2 [==============================] - 0s 13ms/step - loss: 0.0073\n",
      "[array([[0.2729259 ],\n",
      "       [0.2809885 ],\n",
      "       [0.28805363],\n",
      "       ...,\n",
      "       [0.2653237 ],\n",
      "       [0.2634871 ],\n",
      "       [0.26628533]], dtype=float32), array([0.51337111, 0.55262054, 0.42899009, ..., 0.25748187, 0.350705  ,\n",
      "       0.26601737])]\n"
     ]
    }
   ],
   "source": [
    "n_features = 1\n",
    "X_QoE = X_QoE.reshape((X_QoE.shape[0], X_QoE.shape[1], n_features))\n",
    "#print(X_QoE)\n",
    "# define model\n",
    "model_QoE = Sequential()\n",
    "model_QoE.add(Bidirectional(LSTM(50, activation='relu'), input_shape=(n_steps, n_features)))\n",
    "model_QoE.add(Dense(1))\n",
    "model_QoE.compile(optimizer='sgd', loss='mean_squared_error')\n",
    "# split test/train\n",
    "X_train_QoE, X_test_QoE, y_train_QoE, y_test_QoE = train_test_split(X_QoE, y_QoE, test_size=0.25, shuffle=False, random_state=42)\n",
    "# fit model\n",
    "history_QoE = model_QoE.fit(X_train_QoE, y_train_QoE, epochs=150, verbose=1,batch_size=2000*n_steps)\n",
    "# demonstrate prediction\n",
    "\n",
    "yhat_QoE = model_QoE.predict(X_test_QoE, verbose=0)\n",
    "print([yhat_QoE,y_test_QoE])"
   ]
  },
  {
   "cell_type": "code",
   "execution_count": 39,
   "metadata": {},
   "outputs": [
    {
     "name": "stdout",
     "output_type": "stream",
     "text": [
      "dict_keys(['loss'])\n"
     ]
    },
    {
     "data": {
      "image/png": "[encoded data removed]",
      "text/plain": [
       "<Figure size 1080x720 with 1 Axes>"
      ]
     },
     "metadata": {
      "needs_background": "light"
     },
     "output_type": "display_data"
    }
   ],
   "source": [
    "# list all data in history\n",
    "print(history_QoE.history.keys())\n",
    "fig = plt.figure(figsize=(15,10))\n",
    "# summarize history for loss\n",
    "plt.plot(history_QoE.history['loss'])\n",
    "plt.title('model loss [QoE]',fontsize=22)\n",
    "plt.ylabel('loss',fontsize=22)\n",
    "plt.xlabel('epoch',fontsize=22)\n",
    "plt.tick_params(axis='x', labelsize=20)\n",
    "plt.tick_params(axis='y', labelsize=20)\n",
    "plt.savefig('../figure/S1Urban-model_QoE_loss-mse.png', format='png',bbox_inches='tight')\n",
    "#plt.legend(['train', 'test'], loc='upper left')\n",
    "plt.show()"
   ]
  },
  {
   "cell_type": "code",
   "execution_count": 40,
   "metadata": {
    "scrolled": true
   },
   "outputs": [
    {
     "name": "stdout",
     "output_type": "stream",
     "text": [
      "          yhat    y_test      diff\n",
      "0     0.272926  0.513371  0.240445\n",
      "1     0.280989  0.552621  0.271632\n",
      "2     0.288054  0.428990  0.140936\n",
      "3     0.293882  0.455383  0.161502\n",
      "4     0.297870  0.266172  0.031699\n",
      "...        ...       ...       ...\n",
      "3594  0.264210  0.317678  0.053468\n",
      "3595  0.265184  0.254804  0.010379\n",
      "3596  0.265324  0.257482  0.007842\n",
      "3597  0.263487  0.350705  0.087218\n",
      "3598  0.266285  0.266017  0.000268\n",
      "\n",
      "[3599 rows x 3 columns]\n"
     ]
    },
    {
     "ename": "NameError",
     "evalue": "name 'res_QoI' is not defined",
     "output_type": "error",
     "traceback": [
      "\u001b[0;31m---------------------------------------------------------------------------\u001b[0m",
      "\u001b[0;31mNameError\u001b[0m                                 Traceback (most recent call last)",
      "\u001b[0;32m<ipython-input-40-2200c66df0ed>\u001b[0m in \u001b[0;36m<module>\u001b[0;34m\u001b[0m\n\u001b[1;32m     20\u001b[0m         \u001b[0mnotif2\u001b[0m\u001b[0;34m.\u001b[0m\u001b[0mappend\u001b[0m\u001b[0;34m(\u001b[0m\u001b[0;36m0\u001b[0m\u001b[0;34m)\u001b[0m\u001b[0;34m\u001b[0m\u001b[0;34m\u001b[0m\u001b[0m\n\u001b[1;32m     21\u001b[0m     \u001b[0;32melse\u001b[0m\u001b[0;34m:\u001b[0m\u001b[0;34m\u001b[0m\u001b[0;34m\u001b[0m\u001b[0m\n\u001b[0;32m---> 22\u001b[0;31m         \u001b[0;32mif\u001b[0m\u001b[0;34m(\u001b[0m\u001b[0mres_QoE\u001b[0m\u001b[0;34m[\u001b[0m\u001b[0;34m'yhat'\u001b[0m\u001b[0;34m]\u001b[0m\u001b[0;34m[\u001b[0m\u001b[0mi\u001b[0m\u001b[0;34m]\u001b[0m \u001b[0;34m<\u001b[0m \u001b[0mres_QoE\u001b[0m\u001b[0;34m[\u001b[0m\u001b[0;34m'y_test'\u001b[0m\u001b[0;34m]\u001b[0m\u001b[0;34m[\u001b[0m\u001b[0mi\u001b[0m\u001b[0;34m-\u001b[0m\u001b[0;36m1\u001b[0m\u001b[0;34m]\u001b[0m\u001b[0;34m*\u001b[0m\u001b[0mth\u001b[0m \u001b[0;32mor\u001b[0m \u001b[0mres_QoE\u001b[0m\u001b[0;34m[\u001b[0m\u001b[0;34m'yhat'\u001b[0m\u001b[0;34m]\u001b[0m\u001b[0;34m[\u001b[0m\u001b[0mi\u001b[0m\u001b[0;34m]\u001b[0m \u001b[0;34m==\u001b[0m \u001b[0mres_QoE\u001b[0m\u001b[0;34m[\u001b[0m\u001b[0;34m'yhat'\u001b[0m\u001b[0;34m]\u001b[0m\u001b[0;34m[\u001b[0m\u001b[0mi\u001b[0m\u001b[0;34m-\u001b[0m\u001b[0;36m1\u001b[0m\u001b[0;34m]\u001b[0m \u001b[0;32mor\u001b[0m \u001b[0mres_QoI\u001b[0m\u001b[0;34m[\u001b[0m\u001b[0;34m'yhat'\u001b[0m\u001b[0;34m]\u001b[0m\u001b[0;34m[\u001b[0m\u001b[0mi\u001b[0m\u001b[0;34m]\u001b[0m \u001b[0;34m<\u001b[0m \u001b[0;36m0.35\u001b[0m\u001b[0;34m)\u001b[0m\u001b[0;34m:\u001b[0m\u001b[0;34m\u001b[0m\u001b[0;34m\u001b[0m\u001b[0m\n\u001b[0m\u001b[1;32m     23\u001b[0m             \u001b[0mnotif\u001b[0m\u001b[0;34m.\u001b[0m\u001b[0mappend\u001b[0m\u001b[0;34m(\u001b[0m\u001b[0;36m1\u001b[0m\u001b[0;34m)\u001b[0m\u001b[0;34m\u001b[0m\u001b[0;34m\u001b[0m\u001b[0m\n\u001b[1;32m     24\u001b[0m         \u001b[0;32melse\u001b[0m\u001b[0;34m:\u001b[0m\u001b[0;34m\u001b[0m\u001b[0;34m\u001b[0m\u001b[0m\n",
      "\u001b[0;31mNameError\u001b[0m: name 'res_QoI' is not defined"
     ]
    }
   ],
   "source": [
    "res_QoE = pd.DataFrame()\n",
    "res_QoE['yhat'] = yhat_QoE.ravel()\n",
    "res_QoE['y_test'] = y_test_QoE\n",
    "res_QoE['diff'] = abs(res_QoE['yhat']-res_QoE['y_test'])\n",
    "#res = np.concatenate((yhat.ravel(),y_test),axis=1)\n",
    "print(res_QoE)\n",
    "\n",
    "min = 0\n",
    "count = 0;\n",
    "notif = []\n",
    "notif2 = []\n",
    "\n",
    "th = 0.5\n",
    "\n",
    "\n",
    "for i in range(0,res_QoE['yhat'].shape[0]):\n",
    "    #print([res_QoE['yhat'][i], res_QoE['y_test'][i]])\n",
    "    if (i==0):\n",
    "        notif.append(0)\n",
    "        notif2.append(0)\n",
    "    else:\n",
    "        if(res_QoE['yhat'][i] < res_QoE['y_test'][i-1]*th or res_QoE['yhat'][i] == res_QoE['yhat'][i-1] or res_QoI['yhat'][i] < 0.35):\n",
    "            notif.append(1)\n",
    "        else:\n",
    "            notif.append(0)\n",
    "        \n",
    "        if(res_QoE['y_test'][i] < res_QoE['y_test'][i-1]*th or res_QoE['y_test'][i] == res_QoE['y_test'][i-1]):\n",
    "            notif2.append(1)\n",
    "        else:\n",
    "            notif2.append(0)    \n",
    "\n",
    "\n",
    "\n",
    "x = len(notif)\n",
    "x = np.linspace(0.0, x-1, num=x)\n",
    "\n",
    "\n",
    "fig2, ((ax1), (ax2), (ax3)) = plt.subplots(nrows=3, ncols=1, sharex=True, sharey=False, figsize=(15,10))\n",
    "fig2.suptitle('Notificación de caída de rendimiento [QoE]',fontsize=22)\n",
    "#fig2.xlabel('$Teval_i$' ,fontsize=22)\n",
    "\n",
    "ax1.plot(notif_paper,c='g')\n",
    "#ax1.set_xlabel('$Teval_i$' ,fontsize=22)\n",
    "ax1.set_ylabel('C4.5 DT', fontsize=22)\n",
    "ax1.set_ylim([-0.05,1.1])\n",
    "ax1.tick_params(axis='x', labelsize=20)\n",
    "ax1.tick_params(axis='y', labelsize=20)\n",
    "\n",
    "ax2.plot(x,notif,c='b')\n",
    "#ax1.set_xlabel('$Teval_i$' ,fontsize=22)\n",
    "ax2.set_ylabel('DL', fontsize=22,rotation=90)\n",
    "ax2.set_ylim([-0.05,1.1])\n",
    "ax2.tick_params(axis='x', labelsize=20)\n",
    "ax2.tick_params(axis='y', labelsize=20)\n",
    "\n",
    "ax3.plot(x,notif2,c='r')\n",
    "ax3.set_xlabel('$Teval_i$' ,fontsize=22)\n",
    "ax3.set_ylabel('Experimentación', fontsize=22,rotation=90)\n",
    "ax3.set_ylim([-0.05,1.1])\n",
    "ax3.tick_params(axis='x', labelsize=20)\n",
    "ax3.tick_params(axis='y', labelsize=20)\n",
    "plt.savefig('../figure/S1Urban-NotificationsQoE.png', format='png',bbox_inches='tight')\n",
    "\n",
    "plt.show()\n"
   ]
  },
  {
   "cell_type": "code",
   "execution_count": null,
   "metadata": {},
   "outputs": [],
   "source": [
    "from sklearn.metrics import confusion_matrix, classification_report\n",
    "tn, fp, fn, tp = confusion_matrix(notif2, notif).ravel()\n",
    "print('TN: %i'%tn)\n",
    "print('FP: %i'%fp)\n",
    "print('FN: %i'%fn)\n",
    "print('TP: %i'%tp)\n",
    "print(classification_report(notif2, notif))"
   ]
  },
  {
   "cell_type": "code",
   "execution_count": null,
   "metadata": {},
   "outputs": [],
   "source": [
    "\n",
    "\n",
    "notif_paper2 = notif_paper.pop()\n",
    "\n",
    "\n",
    "\n",
    "tn, fp, fn, tp = confusion_matrix(notif2, notif_paper).ravel()\n",
    "print('TN: %i'%tn)\n",
    "print('FP: %i'%fp)\n",
    "print('FN: %i'%fn)\n",
    "print('TP: %i'%tp)\n",
    "print(classification_report(notif2, notif_paper))"
   ]
  },
  {
   "cell_type": "code",
   "execution_count": null,
   "metadata": {},
   "outputs": [],
   "source": [
    "print('************Diferencias Testing [QoE] **************')\n",
    "print(max(res_QoE['diff']))\n",
    "#print(min(res_QoE['diff']))\n",
    "print(sum(res_QoE['diff'])/len(res_QoE))\n",
    "print()"
   ]
  },
  {
   "cell_type": "code",
   "execution_count": null,
   "metadata": {},
   "outputs": [],
   "source": [
    "# choose a number of time steps\n",
    "n_steps = 5\n",
    "# split into samples\n",
    "X_QoI, y_QoI = split_sequence(df['QoI'], n_steps)\n",
    "# summarize the data\n",
    "#for i in range(len(X)):\n",
    "#\tprint(X[i], y[i])"
   ]
  },
  {
   "cell_type": "code",
   "execution_count": null,
   "metadata": {},
   "outputs": [],
   "source": [
    "n_features = 1\n",
    "X_QoI = X_QoI.reshape((X_QoI.shape[0], X_QoI.shape[1], n_features))\n",
    "#print(X_QoI)\n",
    "# define model\n",
    "model_QoI = Sequential()\n",
    "model_QoI.add(Bidirectional(LSTM(50, activation='relu'), input_shape=(n_steps, n_features)))\n",
    "model_QoI.add(Dense(1))\n",
    "model_QoI.compile(optimizer='sgd', loss='mean_squared_error')\n",
    "# split test/train\n",
    "X_train_QoI, X_test_QoI, y_train_QoI, y_test_QoI = train_test_split(X_QoI, y_QoI, test_size=0.25, shuffle=False, random_state=42)\n",
    "# fit model\n",
    "history_QoI = model_QoI.fit(X_train_QoI, y_train_QoI, epochs=150, verbose=1,batch_size=2000*n_steps)\n",
    "# demonstrate prediction\n",
    "\n",
    "yhat_QoI = model_QoI.predict(X_test_QoI, verbose=0)\n",
    "print([yhat_QoI,y_test_QoI])"
   ]
  },
  {
   "cell_type": "code",
   "execution_count": null,
   "metadata": {},
   "outputs": [],
   "source": [
    "# list all data in history\n",
    "print(history_QoI.history.keys())\n",
    "fig = plt.figure(figsize=(15,10))\n",
    "# summarize history for loss\n",
    "plt.plot(history_QoI.history['loss'])\n",
    "plt.title('model loss [QoI]',fontsize=22)\n",
    "plt.ylabel('loss',fontsize=22)\n",
    "plt.xlabel('epoch',fontsize=22)\n",
    "plt.tick_params(axis='x', labelsize=20)\n",
    "plt.tick_params(axis='y', labelsize=20)\n",
    "plt.savefig('../figure/S1Urban-model_QoI_loss-mse.png', format='png',bbox_inches='tight')\n",
    "#plt.legend(['train', 'test'], loc='upper left')\n",
    "plt.show()"
   ]
  },
  {
   "cell_type": "code",
   "execution_count": null,
   "metadata": {},
   "outputs": [],
   "source": [
    "res_QoI = pd.DataFrame()\n",
    "res_QoI['yhat'] = yhat_QoI.ravel()\n",
    "res_QoI['y_test'] = y_test_QoI\n",
    "res_QoI['diff'] = abs(res_QoI['yhat']-res_QoI['y_test'])\n",
    "#res = np.concatenate((yhat.ravel(),y_test),axis=1)\n",
    "print(res_QoI)\n",
    "\n",
    "notif = []\n",
    "notif2 = []\n",
    "\n",
    "th = 0.5\n",
    "\n",
    "\n",
    "for i in range(0,res_QoI['yhat'].shape[0]):\n",
    "    #print([res_QoI['yhat'][i], res_QoI['y_test'][i]])\n",
    "    if (i==0):\n",
    "        notif.append(0)\n",
    "        notif2.append(0)\n",
    "    else:\n",
    "        if(res_QoI['yhat'][i] < res_QoI['y_test'][i-1]*th or res_QoI['yhat'][i] == res_QoI['yhat'][i-1] or res_QoI['yhat'][i] < .35):\n",
    "            notif.append(1)\n",
    "        else:\n",
    "            notif.append(0)\n",
    "        \n",
    "        if(res_QoI['y_test'][i] < res_QoI['y_test'][i-1]*th or res_QoI['y_test'][i] == res_QoI['y_test'][i-1]):\n",
    "            notif2.append(1)\n",
    "        else:\n",
    "            notif2.append(0)    \n",
    "\n",
    "\n",
    "\n",
    "x = len(notif)\n",
    "x = np.linspace(0.0, x-1, num=x)\n",
    "\n",
    "\n",
    "fig2, ((ax1), (ax2)) = plt.subplots(nrows=2, ncols=1, sharex=False, sharey=False, figsize=(15,10))\n",
    "fig2.suptitle('Notificación de caída de rendimiento [QoI]',fontsize=22)\n",
    "ax1.plot(x,notif,c='b')\n",
    "ax1.set_xlabel('$Teval_i$' ,fontsize=22)\n",
    "ax1.set_ylabel('Estimación', fontsize=22)\n",
    "ax1.set_ylim([-0.05,1.1])\n",
    "ax1.tick_params(axis='x', labelsize=20)\n",
    "ax1.tick_params(axis='y', labelsize=20)\n",
    "\n",
    "ax2.plot(x,notif2,c='r')\n",
    "ax2.set_xlabel('$Teval_i$' ,fontsize=22)\n",
    "ax2.set_ylabel('Experimentación', fontsize=22)\n",
    "ax2.set_ylim([-0.05,1.1])\n",
    "ax2.tick_params(axis='x', labelsize=20)\n",
    "ax2.tick_params(axis='y', labelsize=20)\n",
    "plt.savefig('../figure/S1Urban-NotificationsQoI.png', format='png',bbox_inches='tight')\n",
    "\n",
    "plt.show()\n"
   ]
  },
  {
   "cell_type": "code",
   "execution_count": null,
   "metadata": {},
   "outputs": [],
   "source": [
    "tn, fp, fn, tp = confusion_matrix(notif2, notif).ravel()\n",
    "print('TN: %i'%tn)\n",
    "print('FP: %i'%fp)\n",
    "print('FN: %i'%fn)\n",
    "print('TP: %i'%tp)\n",
    "print(classification_report(notif2, notif))"
   ]
  },
  {
   "cell_type": "code",
   "execution_count": null,
   "metadata": {},
   "outputs": [],
   "source": [
    "fig = plt.figure(figsize=(15,10))\n",
    "plt.plot(res_QoI['y_test'],c='b')\n",
    "#plt.plot(c_v)\n",
    "plt.title('Notificación de caída de rendimiento [QoI]',fontsize=22)\n",
    "plt.xlabel('$Teval_i$',fontsize=22)\n",
    "plt.tick_params(axis='x', labelsize=20)\n",
    "plt.tick_params(axis='y', labelsize=20)\n",
    "#plt.legend(['train', 'test'], loc='upper left')\n",
    "plt.show()"
   ]
  },
  {
   "cell_type": "code",
   "execution_count": null,
   "metadata": {},
   "outputs": [],
   "source": [
    "res_QoI = pd.DataFrame()\n",
    "res_QoI['yhat'] = yhat_QoI.ravel()\n",
    "res_QoI['y_test'] = y_test_QoI\n",
    "res_QoI['diff'] = abs(res_QoI['yhat']-res_QoI['y_test'])\n",
    "#res = np.concatenate((yhat.ravel(),y_test),axis=1)\n",
    "print(res_QoI)"
   ]
  },
  {
   "cell_type": "code",
   "execution_count": null,
   "metadata": {},
   "outputs": [],
   "source": [
    "print('************Diferencias Testing [QoI] **************')\n",
    "print(max(res_QoI['diff']))\n",
    "#print(min(res_QoI['diff']))\n",
    "print(sum(res_QoI['diff'])/len(res_QoI))\n",
    "print()"
   ]
  },
  {
   "cell_type": "code",
   "execution_count": null,
   "metadata": {},
   "outputs": [],
   "source": [
    "# choose a number of time steps\n",
    "n_steps = 5\n",
    "# split into samples\n",
    "X_QoD, y_QoD = split_sequence(df['QoD'], n_steps)\n",
    "# summarize the data\n",
    "#for i in range(len(X)):\n",
    "#\tprint(X_QoD[i], y_QoD[i])"
   ]
  },
  {
   "cell_type": "code",
   "execution_count": null,
   "metadata": {},
   "outputs": [],
   "source": [
    "n_features = 1\n",
    "X_QoD = X_QoD.reshape((X_QoD.shape[0], X_QoD.shape[1], n_features))\n",
    "#print(X_QoD)\n",
    "# define model\n",
    "model_QoD = Sequential()\n",
    "model_QoD.add(Bidirectional(LSTM(50, activation='relu'), input_shape=(n_steps, n_features)))\n",
    "model_QoD.add(Dense(1))\n",
    "model_QoD.compile(optimizer='sgd', loss='mean_squared_error')\n",
    "# split test/train\n",
    "X_train_QoD, X_test_QoD, y_train_QoD, y_test_QoD = train_test_split(X_QoD, y_QoD, test_size=0.25, shuffle=False, random_state=42)\n",
    "# fit model\n",
    "history_QoD = model_QoD.fit(X_train_QoD, y_train_QoD, epochs=150, verbose=1,batch_size=2000*n_steps)\n",
    "# demonstrate prediction\n",
    "\n",
    "yhat_QoD = model_QoD.predict(X_test_QoD, verbose=0)\n",
    "#print([yhat_QoD,y_test_QoD])\n"
   ]
  },
  {
   "cell_type": "code",
   "execution_count": null,
   "metadata": {},
   "outputs": [],
   "source": [
    "yhat_QoD = model_QoD.predict(X_test_QoD, verbose=0)\n",
    "print([yhat_QoD,y_test_QoD])"
   ]
  },
  {
   "cell_type": "code",
   "execution_count": null,
   "metadata": {},
   "outputs": [],
   "source": [
    "# list all data in history\n",
    "print(history_QoD.history.keys())\n",
    "fig = plt.figure(figsize=(15,10))\n",
    "# summarize history for loss\n",
    "plt.plot(history_QoD.history['loss'])\n",
    "plt.title('model loss [QoD]',fontsize=22)\n",
    "plt.ylabel('loss',fontsize=22)\n",
    "plt.xlabel('epoch',fontsize=22)\n",
    "plt.tick_params(axis='x', labelsize=20)\n",
    "plt.tick_params(axis='y', labelsize=20)\n",
    "plt.savefig('../figure/S1Urban-model_QoD_loss-mean_squared_error.png', format='png',bbox_inches='tight')\n",
    "#plt.legend(['train', 'test'], loc='upper left')\n",
    "plt.show()"
   ]
  },
  {
   "cell_type": "code",
   "execution_count": null,
   "metadata": {},
   "outputs": [],
   "source": [
    "res_QoD = pd.DataFrame()\n",
    "res_QoD['yhat'] = yhat_QoD.ravel()\n",
    "res_QoD['y_test'] = y_test_QoD\n",
    "res_QoD['diff'] = abs(res_QoD['yhat']-res_QoD['y_test'])\n",
    "#res = np.concatenate((yhat.ravel(),y_test),axis=1)\n",
    "print(res_QoD)\n",
    "\n",
    "min = 0\n",
    "count = 0;\n",
    "notif = []\n",
    "notif2 = []\n",
    "\n",
    "th = 0.5\n",
    "\n",
    "\n",
    "for i in range(0,res_QoD['yhat'].shape[0]):\n",
    "    #print([res_QoD['yhat'][i], res_QoD['y_test'][i]])\n",
    "    if (i==0):\n",
    "        notif.append(0)\n",
    "        notif2.append(0)\n",
    "    else:\n",
    "        if(res_QoD['yhat'][i] < res_QoD['y_test'][i-1]*th or res_QoD['yhat'][i] == res_QoD['yhat'][i-1]):\n",
    "            notif.append(1)\n",
    "        else:\n",
    "            notif.append(0)\n",
    "        \n",
    "        if(res_QoD['y_test'][i] < res_QoD['y_test'][i-1]*th or res_QoD['y_test'][i] == res_QoD['y_test'][i-1]):\n",
    "            notif2.append(1)\n",
    "        else:\n",
    "            notif2.append(0)    \n",
    "\n",
    "\n",
    "\n",
    "x = len(notif)\n",
    "x = np.linspace(0.0, x-1, num=x)\n",
    "\n",
    "\n",
    "fig2, ((ax1), (ax2)) = plt.subplots(nrows=2, ncols=1, sharex=False, sharey=False, figsize=(15,10))\n",
    "fig2.suptitle('Notificación de caída de rendimiento [QoD]',fontsize=22)\n",
    "ax1.plot(x,notif,c='b')\n",
    "ax1.set_xlabel('$Teval_i$' ,fontsize=22)\n",
    "ax1.set_ylabel('Estimación', fontsize=22)\n",
    "ax1.set_ylim([-0.05,1.1])\n",
    "ax1.tick_params(axis='x', labelsize=20)\n",
    "ax1.tick_params(axis='y', labelsize=20)\n",
    "\n",
    "ax2.plot(x,notif2,c='r')\n",
    "ax2.set_xlabel('$Teval_i$' ,fontsize=22)\n",
    "ax2.set_ylabel('Experimentación', fontsize=22)\n",
    "ax2.set_ylim([-0.05,1.1])\n",
    "ax2.tick_params(axis='x', labelsize=20)\n",
    "ax2.tick_params(axis='y', labelsize=20)\n",
    "plt.savefig('../figure/S1Urban-NotificationsQoD.png', format='png',bbox_inches='tight')\n",
    "\n",
    "plt.show()"
   ]
  },
  {
   "cell_type": "code",
   "execution_count": null,
   "metadata": {},
   "outputs": [],
   "source": [
    "tn, fp, fn, tp = confusion_matrix(notif2, notif).ravel()\n",
    "print('TN: %i'%tn)\n",
    "print('FP: %i'%fp)\n",
    "print('FN: %i'%fn)\n",
    "print('TP: %i'%tp)\n",
    "print(classification_report(notif2, notif))"
   ]
  },
  {
   "cell_type": "code",
   "execution_count": null,
   "metadata": {},
   "outputs": [],
   "source": [
    "print('************Diferencias Testing [QoD] **************')\n",
    "print(max(res_QoD['diff']))\n",
    "#print(min(res_QoD['diff']))\n",
    "print(sum(res_QoD['diff'])/len(res_QoD))\n",
    "print()"
   ]
  },
  {
   "cell_type": "code",
   "execution_count": null,
   "metadata": {},
   "outputs": [],
   "source": [
    "# choose a number of time steps\n",
    "n_steps = 5\n",
    "# split into samples\n",
    "X_QC, y_QC = split_sequence(df['QC'], n_steps)\n",
    "# summarize the data\n",
    "#for i in range(len(X)):\n",
    "#\tprint(X_QC[i], y_QC[i])"
   ]
  },
  {
   "cell_type": "code",
   "execution_count": null,
   "metadata": {},
   "outputs": [],
   "source": [
    "n_features = 1\n",
    "X_QC = X_QC.reshape((X_QC.shape[0], X_QC.shape[1], n_features))\n",
    "#print(X_QC)\n",
    "# define model\n",
    "model_QC = Sequential()\n",
    "model_QC.add(Bidirectional(LSTM(50, activation='relu'), input_shape=(n_steps, n_features)))\n",
    "model_QC.add(Dense(1))\n",
    "model_QC.compile(optimizer='sgd', loss='mean_squared_error')\n",
    "# split test/train\n",
    "X_train_QC, X_test_QC, y_train_QC, y_test_QC = train_test_split(X_QC, y_QC, test_size=0.25, shuffle=False, random_state=42)\n",
    "# fit model\n",
    "history_QC = model_QC.fit(X_train_QC, y_train_QC, epochs=150, verbose=1,batch_size=2000*n_steps)\n",
    "# demonstrate prediction\n",
    "\n",
    "yhat_QC = model_QC.predict(X_test_QC, verbose=0)\n",
    "#print([yhat_QC,y_test_QC])\n"
   ]
  },
  {
   "cell_type": "code",
   "execution_count": null,
   "metadata": {},
   "outputs": [],
   "source": [
    "yhat_QC = model_QC.predict(X_test_QC, verbose=0)\n",
    "print([yhat_QC,y_test_QC])"
   ]
  },
  {
   "cell_type": "code",
   "execution_count": null,
   "metadata": {},
   "outputs": [],
   "source": [
    "# list all data in history\n",
    "print(history_QC.history.keys())\n",
    "fig = plt.figure(figsize=(15,10))\n",
    "# summarize history for loss\n",
    "plt.plot(history_QC.history['loss'])\n",
    "plt.title('model loss [QC]',fontsize=22)\n",
    "plt.ylabel('loss',fontsize=22)\n",
    "plt.xlabel('epoch',fontsize=22)\n",
    "plt.tick_params(axis='x', labelsize=20)\n",
    "plt.tick_params(axis='y', labelsize=20)\n",
    "plt.savefig('../figure/S1Urban-model_QC_loss-mean_squared_error.png', format='png',bbox_inches='tight')\n",
    "#plt.legend(['train', 'test'], loc='upper left')\n",
    "plt.show()"
   ]
  },
  {
   "cell_type": "code",
   "execution_count": null,
   "metadata": {},
   "outputs": [],
   "source": [
    "res_QC = pd.DataFrame()\n",
    "res_QC['yhat'] = yhat_QC.ravel()\n",
    "res_QC['y_test'] = y_test_QC\n",
    "res_QC['diff'] = abs(res_QC['yhat']-res_QC['y_test'])\n",
    "#res = np.concatenate((yhat.ravel(),y_test),axis=1)\n",
    "print(res_QC)\n",
    "\n",
    "min = 0\n",
    "count = 0;\n",
    "notif = []\n",
    "notif2 = []\n",
    "\n",
    "th = 0.5\n",
    "\n",
    "\n",
    "for i in range(0,res_QC['yhat'].shape[0]):\n",
    "    #print([res_QC['yhat'][i], res_QC['y_test'][i]])\n",
    "    if (i==0):\n",
    "        notif.append(0)\n",
    "        notif2.append(0)\n",
    "    else:\n",
    "        if(res_QC['yhat'][i] < res_QC['y_test'][i-1]*th or res_QC['yhat'][i] == res_QC['yhat'][i-1] ):\n",
    "            notif.append(1)\n",
    "        else:\n",
    "            notif.append(0)\n",
    "        \n",
    "        if(res_QC['y_test'][i] < res_QC['y_test'][i-1]*th or res_QC['y_test'][i] == res_QC['y_test'][i-1]):\n",
    "            notif2.append(1)\n",
    "        else:\n",
    "            notif2.append(0)    \n",
    "\n",
    "\n",
    "\n",
    "x = len(notif)\n",
    "x = np.linspace(0.0, x-1, num=x)\n",
    "\n",
    "\n",
    "fig2, ((ax1), (ax2)) = plt.subplots(nrows=2, ncols=1, sharex=False, sharey=False, figsize=(15,10))\n",
    "fig2.suptitle('Notificación de caída de rendimiento [QC]',fontsize=22)\n",
    "ax1.plot(x,notif,c='b')\n",
    "ax1.set_xlabel('$Teval_i$' ,fontsize=22)\n",
    "ax1.set_ylabel('Estimación', fontsize=22)\n",
    "ax1.set_ylim([-0.05,1.1])\n",
    "ax1.tick_params(axis='x', labelsize=20)\n",
    "ax1.tick_params(axis='y', labelsize=20)\n",
    "\n",
    "ax2.plot(x,notif2,c='r')\n",
    "ax2.set_xlabel('$Teval_i$' ,fontsize=22)\n",
    "ax2.set_ylabel('Experimentación', fontsize=22)\n",
    "ax2.set_ylim([-0.05,1.1])\n",
    "ax2.tick_params(axis='x', labelsize=20)\n",
    "ax2.tick_params(axis='y', labelsize=20)\n",
    "plt.savefig('../figure/S1Urban-NotificationsQC.png', format='png',bbox_inches='tight')\n",
    "\n",
    "plt.show()"
   ]
  },
  {
   "cell_type": "code",
   "execution_count": null,
   "metadata": {},
   "outputs": [],
   "source": [
    "tn, fp, fn, tp = confusion_matrix(notif2, notif).ravel()\n",
    "print('TN: %i'%tn)\n",
    "print('FP: %i'%fp)\n",
    "print('FN: %i'%fn)\n",
    "print('TP: %i'%tp)\n",
    "print(classification_report(notif2, notif))"
   ]
  }
 ],
 "metadata": {
  "kernelspec": {
   "display_name": "Python 3",
   "language": "python",
   "name": "python3"
  }
 },
 "nbformat": 4,
 "nbformat_minor": 4
}
